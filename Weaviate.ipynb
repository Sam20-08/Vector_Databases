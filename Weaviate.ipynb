{
  "nbformat": 4,
  "nbformat_minor": 0,
  "metadata": {
    "colab": {
      "provenance": []
    },
    "kernelspec": {
      "name": "python3",
      "display_name": "Python 3"
    },
    "language_info": {
      "name": "python"
    }
  },
  "cells": [
    {
      "cell_type": "code",
      "execution_count": 1,
      "metadata": {
        "colab": {
          "base_uri": "https://localhost:8080/"
        },
        "collapsed": true,
        "id": "QNYndmav3U_U",
        "outputId": "1df4754d-652b-48af-d8c5-58c33bc78c79"
      },
      "outputs": [
        {
          "output_type": "stream",
          "name": "stdout",
          "text": [
            "Requirement already satisfied: weaviate-client in /usr/local/lib/python3.10/dist-packages (4.9.5)\n",
            "Requirement already satisfied: requests<3.0.0,>=2.30.0 in /usr/local/lib/python3.10/dist-packages (from weaviate-client) (2.32.3)\n",
            "Requirement already satisfied: httpx<=0.27.0,>=0.25.0 in /usr/local/lib/python3.10/dist-packages (from weaviate-client) (0.27.0)\n",
            "Requirement already satisfied: validators==0.34.0 in /usr/local/lib/python3.10/dist-packages (from weaviate-client) (0.34.0)\n",
            "Requirement already satisfied: authlib<1.3.2,>=1.2.1 in /usr/local/lib/python3.10/dist-packages (from weaviate-client) (1.3.1)\n",
            "Requirement already satisfied: pydantic<3.0.0,>=2.5.0 in /usr/local/lib/python3.10/dist-packages (from weaviate-client) (2.9.2)\n",
            "Requirement already satisfied: grpcio<2.0.0,>=1.57.0 in /usr/local/lib/python3.10/dist-packages (from weaviate-client) (1.68.0)\n",
            "Requirement already satisfied: grpcio-tools<2.0.0,>=1.57.0 in /usr/local/lib/python3.10/dist-packages (from weaviate-client) (1.68.0)\n",
            "Requirement already satisfied: grpcio-health-checking<2.0.0,>=1.57.0 in /usr/local/lib/python3.10/dist-packages (from weaviate-client) (1.68.0)\n",
            "Requirement already satisfied: cryptography in /usr/local/lib/python3.10/dist-packages (from authlib<1.3.2,>=1.2.1->weaviate-client) (43.0.3)\n",
            "Requirement already satisfied: protobuf<6.0dev,>=5.26.1 in /usr/local/lib/python3.10/dist-packages (from grpcio-health-checking<2.0.0,>=1.57.0->weaviate-client) (5.29.0)\n",
            "Requirement already satisfied: setuptools in /usr/local/lib/python3.10/dist-packages (from grpcio-tools<2.0.0,>=1.57.0->weaviate-client) (75.1.0)\n",
            "Requirement already satisfied: anyio in /usr/local/lib/python3.10/dist-packages (from httpx<=0.27.0,>=0.25.0->weaviate-client) (3.7.1)\n",
            "Requirement already satisfied: certifi in /usr/local/lib/python3.10/dist-packages (from httpx<=0.27.0,>=0.25.0->weaviate-client) (2024.8.30)\n",
            "Requirement already satisfied: httpcore==1.* in /usr/local/lib/python3.10/dist-packages (from httpx<=0.27.0,>=0.25.0->weaviate-client) (1.0.7)\n",
            "Requirement already satisfied: idna in /usr/local/lib/python3.10/dist-packages (from httpx<=0.27.0,>=0.25.0->weaviate-client) (3.10)\n",
            "Requirement already satisfied: sniffio in /usr/local/lib/python3.10/dist-packages (from httpx<=0.27.0,>=0.25.0->weaviate-client) (1.3.1)\n",
            "Requirement already satisfied: h11<0.15,>=0.13 in /usr/local/lib/python3.10/dist-packages (from httpcore==1.*->httpx<=0.27.0,>=0.25.0->weaviate-client) (0.14.0)\n",
            "Requirement already satisfied: annotated-types>=0.6.0 in /usr/local/lib/python3.10/dist-packages (from pydantic<3.0.0,>=2.5.0->weaviate-client) (0.7.0)\n",
            "Requirement already satisfied: pydantic-core==2.23.4 in /usr/local/lib/python3.10/dist-packages (from pydantic<3.0.0,>=2.5.0->weaviate-client) (2.23.4)\n",
            "Requirement already satisfied: typing-extensions>=4.6.1 in /usr/local/lib/python3.10/dist-packages (from pydantic<3.0.0,>=2.5.0->weaviate-client) (4.12.2)\n",
            "Requirement already satisfied: charset-normalizer<4,>=2 in /usr/local/lib/python3.10/dist-packages (from requests<3.0.0,>=2.30.0->weaviate-client) (3.4.0)\n",
            "Requirement already satisfied: urllib3<3,>=1.21.1 in /usr/local/lib/python3.10/dist-packages (from requests<3.0.0,>=2.30.0->weaviate-client) (2.2.3)\n",
            "Requirement already satisfied: exceptiongroup in /usr/local/lib/python3.10/dist-packages (from anyio->httpx<=0.27.0,>=0.25.0->weaviate-client) (1.2.2)\n",
            "Requirement already satisfied: cffi>=1.12 in /usr/local/lib/python3.10/dist-packages (from cryptography->authlib<1.3.2,>=1.2.1->weaviate-client) (1.17.1)\n",
            "Requirement already satisfied: pycparser in /usr/local/lib/python3.10/dist-packages (from cffi>=1.12->cryptography->authlib<1.3.2,>=1.2.1->weaviate-client) (2.22)\n",
            "Requirement already satisfied: langchain_groq in /usr/local/lib/python3.10/dist-packages (0.2.1)\n",
            "Requirement already satisfied: groq<1,>=0.4.1 in /usr/local/lib/python3.10/dist-packages (from langchain_groq) (0.13.0)\n",
            "Requirement already satisfied: langchain-core<0.4.0,>=0.3.15 in /usr/local/lib/python3.10/dist-packages (from langchain_groq) (0.3.21)\n",
            "Requirement already satisfied: anyio<5,>=3.5.0 in /usr/local/lib/python3.10/dist-packages (from groq<1,>=0.4.1->langchain_groq) (3.7.1)\n",
            "Requirement already satisfied: distro<2,>=1.7.0 in /usr/local/lib/python3.10/dist-packages (from groq<1,>=0.4.1->langchain_groq) (1.9.0)\n",
            "Requirement already satisfied: httpx<1,>=0.23.0 in /usr/local/lib/python3.10/dist-packages (from groq<1,>=0.4.1->langchain_groq) (0.27.0)\n",
            "Requirement already satisfied: pydantic<3,>=1.9.0 in /usr/local/lib/python3.10/dist-packages (from groq<1,>=0.4.1->langchain_groq) (2.9.2)\n",
            "Requirement already satisfied: sniffio in /usr/local/lib/python3.10/dist-packages (from groq<1,>=0.4.1->langchain_groq) (1.3.1)\n",
            "Requirement already satisfied: typing-extensions<5,>=4.7 in /usr/local/lib/python3.10/dist-packages (from groq<1,>=0.4.1->langchain_groq) (4.12.2)\n",
            "Requirement already satisfied: PyYAML>=5.3 in /usr/local/lib/python3.10/dist-packages (from langchain-core<0.4.0,>=0.3.15->langchain_groq) (6.0.2)\n",
            "Requirement already satisfied: jsonpatch<2.0,>=1.33 in /usr/local/lib/python3.10/dist-packages (from langchain-core<0.4.0,>=0.3.15->langchain_groq) (1.33)\n",
            "Requirement already satisfied: langsmith<0.2.0,>=0.1.125 in /usr/local/lib/python3.10/dist-packages (from langchain-core<0.4.0,>=0.3.15->langchain_groq) (0.1.143)\n",
            "Requirement already satisfied: packaging<25,>=23.2 in /usr/local/lib/python3.10/dist-packages (from langchain-core<0.4.0,>=0.3.15->langchain_groq) (24.2)\n",
            "Requirement already satisfied: tenacity!=8.4.0,<10.0.0,>=8.1.0 in /usr/local/lib/python3.10/dist-packages (from langchain-core<0.4.0,>=0.3.15->langchain_groq) (9.0.0)\n",
            "Requirement already satisfied: idna>=2.8 in /usr/local/lib/python3.10/dist-packages (from anyio<5,>=3.5.0->groq<1,>=0.4.1->langchain_groq) (3.10)\n",
            "Requirement already satisfied: exceptiongroup in /usr/local/lib/python3.10/dist-packages (from anyio<5,>=3.5.0->groq<1,>=0.4.1->langchain_groq) (1.2.2)\n",
            "Requirement already satisfied: certifi in /usr/local/lib/python3.10/dist-packages (from httpx<1,>=0.23.0->groq<1,>=0.4.1->langchain_groq) (2024.8.30)\n",
            "Requirement already satisfied: httpcore==1.* in /usr/local/lib/python3.10/dist-packages (from httpx<1,>=0.23.0->groq<1,>=0.4.1->langchain_groq) (1.0.7)\n",
            "Requirement already satisfied: h11<0.15,>=0.13 in /usr/local/lib/python3.10/dist-packages (from httpcore==1.*->httpx<1,>=0.23.0->groq<1,>=0.4.1->langchain_groq) (0.14.0)\n",
            "Requirement already satisfied: jsonpointer>=1.9 in /usr/local/lib/python3.10/dist-packages (from jsonpatch<2.0,>=1.33->langchain-core<0.4.0,>=0.3.15->langchain_groq) (3.0.0)\n",
            "Requirement already satisfied: orjson<4.0.0,>=3.9.14 in /usr/local/lib/python3.10/dist-packages (from langsmith<0.2.0,>=0.1.125->langchain-core<0.4.0,>=0.3.15->langchain_groq) (3.10.11)\n",
            "Requirement already satisfied: requests<3,>=2 in /usr/local/lib/python3.10/dist-packages (from langsmith<0.2.0,>=0.1.125->langchain-core<0.4.0,>=0.3.15->langchain_groq) (2.32.3)\n",
            "Requirement already satisfied: requests-toolbelt<2.0.0,>=1.0.0 in /usr/local/lib/python3.10/dist-packages (from langsmith<0.2.0,>=0.1.125->langchain-core<0.4.0,>=0.3.15->langchain_groq) (1.0.0)\n",
            "Requirement already satisfied: annotated-types>=0.6.0 in /usr/local/lib/python3.10/dist-packages (from pydantic<3,>=1.9.0->groq<1,>=0.4.1->langchain_groq) (0.7.0)\n",
            "Requirement already satisfied: pydantic-core==2.23.4 in /usr/local/lib/python3.10/dist-packages (from pydantic<3,>=1.9.0->groq<1,>=0.4.1->langchain_groq) (2.23.4)\n",
            "Requirement already satisfied: charset-normalizer<4,>=2 in /usr/local/lib/python3.10/dist-packages (from requests<3,>=2->langsmith<0.2.0,>=0.1.125->langchain-core<0.4.0,>=0.3.15->langchain_groq) (3.4.0)\n",
            "Requirement already satisfied: urllib3<3,>=1.21.1 in /usr/local/lib/python3.10/dist-packages (from requests<3,>=2->langsmith<0.2.0,>=0.1.125->langchain-core<0.4.0,>=0.3.15->langchain_groq) (2.2.3)\n"
          ]
        }
      ],
      "source": [
        "!pip install weaviate-client\n",
        "!pip install langchain_groq\n",
        "!pip -q install langchain langchain_community"
      ]
    },
    {
      "cell_type": "code",
      "source": [
        "from langchain_groq import ChatGroq"
      ],
      "metadata": {
        "id": "XErG-R2l7i_a"
      },
      "execution_count": 2,
      "outputs": []
    },
    {
      "cell_type": "code",
      "source": [
        "from google.colab import userdata"
      ],
      "metadata": {
        "id": "4KT0hAax7a2-"
      },
      "execution_count": 3,
      "outputs": []
    },
    {
      "cell_type": "code",
      "source": [
        "model_id = \"sentence-transformers/all-MiniLM-L6-v2\"\n",
        "hf_token = userdata.get('HF_TOKEN')\n",
        "groq_api_key=userdata.get(\"groq_api\")"
      ],
      "metadata": {
        "id": "4YG8VZjg7bJw"
      },
      "execution_count": 4,
      "outputs": []
    },
    {
      "cell_type": "code",
      "source": [
        "WEAVIATE_API_KEY=\"W7VkHSTI45CG0UHovKo4YLaQRYRn1H2QgDWh\"\n",
        "WEAVIATE_CLUSTER=\"https://pj9ida1ty6v6nxpqvyxlq.c0.us-east1.gcp.weaviate.cloud\""
      ],
      "metadata": {
        "id": "yBtnWQWw7dgf"
      },
      "execution_count": 5,
      "outputs": []
    },
    {
      "cell_type": "markdown",
      "source": [
        "# Data Reading"
      ],
      "metadata": {
        "id": "zxaU_Xqn8y8R"
      }
    },
    {
      "cell_type": "code",
      "source": [
        "!mkdir data"
      ],
      "metadata": {
        "colab": {
          "base_uri": "https://localhost:8080/"
        },
        "id": "uA4OaEn98sxm",
        "outputId": "e9c9d98f-1fa5-4c82-c391-e5d09e83a967"
      },
      "execution_count": 6,
      "outputs": [
        {
          "output_type": "stream",
          "name": "stdout",
          "text": [
            "mkdir: cannot create directory ‘data’: File exists\n"
          ]
        }
      ]
    },
    {
      "cell_type": "code",
      "source": [
        "!pip install \"unstructured[pdf]\""
      ],
      "metadata": {
        "colab": {
          "base_uri": "https://localhost:8080/"
        },
        "collapsed": true,
        "id": "RuBfW1G-908V",
        "outputId": "1730a708-bd82-4135-e8e0-cbd7ac5db5fa"
      },
      "execution_count": 7,
      "outputs": [
        {
          "output_type": "stream",
          "name": "stdout",
          "text": [
            "Requirement already satisfied: unstructured[pdf] in /usr/local/lib/python3.10/dist-packages (0.16.8)\n",
            "Requirement already satisfied: chardet in /usr/local/lib/python3.10/dist-packages (from unstructured[pdf]) (5.2.0)\n",
            "Requirement already satisfied: filetype in /usr/local/lib/python3.10/dist-packages (from unstructured[pdf]) (1.2.0)\n",
            "Requirement already satisfied: python-magic in /usr/local/lib/python3.10/dist-packages (from unstructured[pdf]) (0.4.27)\n",
            "Requirement already satisfied: lxml in /usr/local/lib/python3.10/dist-packages (from unstructured[pdf]) (5.3.0)\n",
            "Requirement already satisfied: nltk in /usr/local/lib/python3.10/dist-packages (from unstructured[pdf]) (3.9.1)\n",
            "Requirement already satisfied: requests in /usr/local/lib/python3.10/dist-packages (from unstructured[pdf]) (2.32.3)\n",
            "Requirement already satisfied: beautifulsoup4 in /usr/local/lib/python3.10/dist-packages (from unstructured[pdf]) (4.12.3)\n",
            "Requirement already satisfied: emoji in /usr/local/lib/python3.10/dist-packages (from unstructured[pdf]) (2.14.0)\n",
            "Requirement already satisfied: dataclasses-json in /usr/local/lib/python3.10/dist-packages (from unstructured[pdf]) (0.6.7)\n",
            "Requirement already satisfied: python-iso639 in /usr/local/lib/python3.10/dist-packages (from unstructured[pdf]) (2024.10.22)\n",
            "Requirement already satisfied: langdetect in /usr/local/lib/python3.10/dist-packages (from unstructured[pdf]) (1.0.9)\n",
            "Requirement already satisfied: numpy<2 in /usr/local/lib/python3.10/dist-packages (from unstructured[pdf]) (1.26.4)\n",
            "Requirement already satisfied: rapidfuzz in /usr/local/lib/python3.10/dist-packages (from unstructured[pdf]) (3.10.1)\n",
            "Requirement already satisfied: backoff in /usr/local/lib/python3.10/dist-packages (from unstructured[pdf]) (2.2.1)\n",
            "Requirement already satisfied: typing-extensions in /usr/local/lib/python3.10/dist-packages (from unstructured[pdf]) (4.12.2)\n",
            "Requirement already satisfied: unstructured-client in /usr/local/lib/python3.10/dist-packages (from unstructured[pdf]) (0.28.1)\n",
            "Requirement already satisfied: wrapt in /usr/local/lib/python3.10/dist-packages (from unstructured[pdf]) (1.16.0)\n",
            "Requirement already satisfied: tqdm in /usr/local/lib/python3.10/dist-packages (from unstructured[pdf]) (4.66.6)\n",
            "Requirement already satisfied: psutil in /usr/local/lib/python3.10/dist-packages (from unstructured[pdf]) (5.9.5)\n",
            "Requirement already satisfied: python-oxmsg in /usr/local/lib/python3.10/dist-packages (from unstructured[pdf]) (0.0.1)\n",
            "Requirement already satisfied: html5lib in /usr/local/lib/python3.10/dist-packages (from unstructured[pdf]) (1.1)\n",
            "Requirement already satisfied: onnx in /usr/local/lib/python3.10/dist-packages (from unstructured[pdf]) (1.17.0)\n",
            "Requirement already satisfied: pdf2image in /usr/local/lib/python3.10/dist-packages (from unstructured[pdf]) (1.17.0)\n",
            "Requirement already satisfied: pdfminer.six in /usr/local/lib/python3.10/dist-packages (from unstructured[pdf]) (20231228)\n",
            "Requirement already satisfied: pikepdf in /usr/local/lib/python3.10/dist-packages (from unstructured[pdf]) (9.4.2)\n",
            "Requirement already satisfied: pi-heif in /usr/local/lib/python3.10/dist-packages (from unstructured[pdf]) (0.21.0)\n",
            "Requirement already satisfied: pypdf in /usr/local/lib/python3.10/dist-packages (from unstructured[pdf]) (5.1.0)\n",
            "Requirement already satisfied: google-cloud-vision in /usr/local/lib/python3.10/dist-packages (from unstructured[pdf]) (3.8.1)\n",
            "Requirement already satisfied: effdet in /usr/local/lib/python3.10/dist-packages (from unstructured[pdf]) (0.4.1)\n",
            "Requirement already satisfied: unstructured-inference==0.8.1 in /usr/local/lib/python3.10/dist-packages (from unstructured[pdf]) (0.8.1)\n",
            "Requirement already satisfied: unstructured.pytesseract>=0.3.12 in /usr/local/lib/python3.10/dist-packages (from unstructured[pdf]) (0.3.13)\n",
            "Requirement already satisfied: layoutparser in /usr/local/lib/python3.10/dist-packages (from unstructured-inference==0.8.1->unstructured[pdf]) (0.3.4)\n",
            "Requirement already satisfied: python-multipart in /usr/local/lib/python3.10/dist-packages (from unstructured-inference==0.8.1->unstructured[pdf]) (0.0.18)\n",
            "Requirement already satisfied: huggingface-hub in /usr/local/lib/python3.10/dist-packages (from unstructured-inference==0.8.1->unstructured[pdf]) (0.26.2)\n",
            "Requirement already satisfied: opencv-python!=4.7.0.68 in /usr/local/lib/python3.10/dist-packages (from unstructured-inference==0.8.1->unstructured[pdf]) (4.10.0.84)\n",
            "Requirement already satisfied: onnxruntime>=1.17.0 in /usr/local/lib/python3.10/dist-packages (from unstructured-inference==0.8.1->unstructured[pdf]) (1.20.1)\n",
            "Requirement already satisfied: matplotlib in /usr/local/lib/python3.10/dist-packages (from unstructured-inference==0.8.1->unstructured[pdf]) (3.8.0)\n",
            "Requirement already satisfied: torch in /usr/local/lib/python3.10/dist-packages (from unstructured-inference==0.8.1->unstructured[pdf]) (2.5.1+cu121)\n",
            "Requirement already satisfied: timm in /usr/local/lib/python3.10/dist-packages (from unstructured-inference==0.8.1->unstructured[pdf]) (1.0.11)\n",
            "Requirement already satisfied: transformers>=4.25.1 in /usr/local/lib/python3.10/dist-packages (from unstructured-inference==0.8.1->unstructured[pdf]) (4.46.2)\n",
            "Requirement already satisfied: packaging>=21.3 in /usr/local/lib/python3.10/dist-packages (from unstructured.pytesseract>=0.3.12->unstructured[pdf]) (24.2)\n",
            "Requirement already satisfied: Pillow>=8.0.0 in /usr/local/lib/python3.10/dist-packages (from unstructured.pytesseract>=0.3.12->unstructured[pdf]) (11.0.0)\n",
            "Requirement already satisfied: soupsieve>1.2 in /usr/local/lib/python3.10/dist-packages (from beautifulsoup4->unstructured[pdf]) (2.6)\n",
            "Requirement already satisfied: marshmallow<4.0.0,>=3.18.0 in /usr/local/lib/python3.10/dist-packages (from dataclasses-json->unstructured[pdf]) (3.23.1)\n",
            "Requirement already satisfied: typing-inspect<1,>=0.4.0 in /usr/local/lib/python3.10/dist-packages (from dataclasses-json->unstructured[pdf]) (0.9.0)\n",
            "Requirement already satisfied: torchvision in /usr/local/lib/python3.10/dist-packages (from effdet->unstructured[pdf]) (0.20.1+cu121)\n",
            "Requirement already satisfied: pycocotools>=2.0.2 in /usr/local/lib/python3.10/dist-packages (from effdet->unstructured[pdf]) (2.0.8)\n",
            "Requirement already satisfied: omegaconf>=2.0 in /usr/local/lib/python3.10/dist-packages (from effdet->unstructured[pdf]) (2.3.0)\n",
            "Requirement already satisfied: google-api-core!=2.0.*,!=2.1.*,!=2.10.*,!=2.2.*,!=2.3.*,!=2.4.*,!=2.5.*,!=2.6.*,!=2.7.*,!=2.8.*,!=2.9.*,<3.0.0dev,>=1.34.1 in /usr/local/lib/python3.10/dist-packages (from google-api-core[grpc]!=2.0.*,!=2.1.*,!=2.10.*,!=2.2.*,!=2.3.*,!=2.4.*,!=2.5.*,!=2.6.*,!=2.7.*,!=2.8.*,!=2.9.*,<3.0.0dev,>=1.34.1->google-cloud-vision->unstructured[pdf]) (2.19.2)\n",
            "Requirement already satisfied: google-auth!=2.24.0,!=2.25.0,<3.0.0dev,>=2.14.1 in /usr/local/lib/python3.10/dist-packages (from google-cloud-vision->unstructured[pdf]) (2.27.0)\n",
            "Requirement already satisfied: proto-plus<2.0.0dev,>=1.22.3 in /usr/local/lib/python3.10/dist-packages (from google-cloud-vision->unstructured[pdf]) (1.25.0)\n",
            "Requirement already satisfied: protobuf!=4.21.0,!=4.21.1,!=4.21.2,!=4.21.3,!=4.21.4,!=4.21.5,<6.0.0dev,>=3.20.2 in /usr/local/lib/python3.10/dist-packages (from google-cloud-vision->unstructured[pdf]) (5.29.0)\n",
            "Requirement already satisfied: six>=1.9 in /usr/local/lib/python3.10/dist-packages (from html5lib->unstructured[pdf]) (1.16.0)\n",
            "Requirement already satisfied: webencodings in /usr/local/lib/python3.10/dist-packages (from html5lib->unstructured[pdf]) (0.5.1)\n",
            "Requirement already satisfied: click in /usr/local/lib/python3.10/dist-packages (from nltk->unstructured[pdf]) (8.1.7)\n",
            "Requirement already satisfied: joblib in /usr/local/lib/python3.10/dist-packages (from nltk->unstructured[pdf]) (1.4.2)\n",
            "Requirement already satisfied: regex>=2021.8.3 in /usr/local/lib/python3.10/dist-packages (from nltk->unstructured[pdf]) (2024.9.11)\n",
            "Requirement already satisfied: charset-normalizer>=2.0.0 in /usr/local/lib/python3.10/dist-packages (from pdfminer.six->unstructured[pdf]) (3.4.0)\n",
            "Requirement already satisfied: cryptography>=36.0.0 in /usr/local/lib/python3.10/dist-packages (from pdfminer.six->unstructured[pdf]) (43.0.3)\n",
            "Requirement already satisfied: Deprecated in /usr/local/lib/python3.10/dist-packages (from pikepdf->unstructured[pdf]) (1.2.15)\n",
            "Requirement already satisfied: olefile in /usr/local/lib/python3.10/dist-packages (from python-oxmsg->unstructured[pdf]) (0.47)\n",
            "Requirement already satisfied: idna<4,>=2.5 in /usr/local/lib/python3.10/dist-packages (from requests->unstructured[pdf]) (3.10)\n",
            "Requirement already satisfied: urllib3<3,>=1.21.1 in /usr/local/lib/python3.10/dist-packages (from requests->unstructured[pdf]) (2.2.3)\n",
            "Requirement already satisfied: certifi>=2017.4.17 in /usr/local/lib/python3.10/dist-packages (from requests->unstructured[pdf]) (2024.8.30)\n",
            "Requirement already satisfied: aiofiles>=24.1.0 in /usr/local/lib/python3.10/dist-packages (from unstructured-client->unstructured[pdf]) (24.1.0)\n",
            "Requirement already satisfied: eval-type-backport<0.3.0,>=0.2.0 in /usr/local/lib/python3.10/dist-packages (from unstructured-client->unstructured[pdf]) (0.2.0)\n",
            "Requirement already satisfied: httpx>=0.27.0 in /usr/local/lib/python3.10/dist-packages (from unstructured-client->unstructured[pdf]) (0.27.0)\n",
            "Requirement already satisfied: jsonpath-python<2.0.0,>=1.0.6 in /usr/local/lib/python3.10/dist-packages (from unstructured-client->unstructured[pdf]) (1.0.6)\n",
            "Requirement already satisfied: nest-asyncio>=1.6.0 in /usr/local/lib/python3.10/dist-packages (from unstructured-client->unstructured[pdf]) (1.6.0)\n",
            "Requirement already satisfied: pydantic<2.10.0,>=2.9.2 in /usr/local/lib/python3.10/dist-packages (from unstructured-client->unstructured[pdf]) (2.9.2)\n",
            "Requirement already satisfied: python-dateutil<3.0.0,>=2.8.2 in /usr/local/lib/python3.10/dist-packages (from unstructured-client->unstructured[pdf]) (2.8.2)\n",
            "Requirement already satisfied: requests-toolbelt>=1.0.0 in /usr/local/lib/python3.10/dist-packages (from unstructured-client->unstructured[pdf]) (1.0.0)\n",
            "Requirement already satisfied: cffi>=1.12 in /usr/local/lib/python3.10/dist-packages (from cryptography>=36.0.0->pdfminer.six->unstructured[pdf]) (1.17.1)\n",
            "Requirement already satisfied: googleapis-common-protos<2.0.dev0,>=1.56.2 in /usr/local/lib/python3.10/dist-packages (from google-api-core!=2.0.*,!=2.1.*,!=2.10.*,!=2.2.*,!=2.3.*,!=2.4.*,!=2.5.*,!=2.6.*,!=2.7.*,!=2.8.*,!=2.9.*,<3.0.0dev,>=1.34.1->google-api-core[grpc]!=2.0.*,!=2.1.*,!=2.10.*,!=2.2.*,!=2.3.*,!=2.4.*,!=2.5.*,!=2.6.*,!=2.7.*,!=2.8.*,!=2.9.*,<3.0.0dev,>=1.34.1->google-cloud-vision->unstructured[pdf]) (1.66.0)\n",
            "Requirement already satisfied: grpcio<2.0dev,>=1.33.2 in /usr/local/lib/python3.10/dist-packages (from google-api-core[grpc]!=2.0.*,!=2.1.*,!=2.10.*,!=2.2.*,!=2.3.*,!=2.4.*,!=2.5.*,!=2.6.*,!=2.7.*,!=2.8.*,!=2.9.*,<3.0.0dev,>=1.34.1->google-cloud-vision->unstructured[pdf]) (1.68.0)\n",
            "Requirement already satisfied: grpcio-status<2.0.dev0,>=1.33.2 in /usr/local/lib/python3.10/dist-packages (from google-api-core[grpc]!=2.0.*,!=2.1.*,!=2.10.*,!=2.2.*,!=2.3.*,!=2.4.*,!=2.5.*,!=2.6.*,!=2.7.*,!=2.8.*,!=2.9.*,<3.0.0dev,>=1.34.1->google-cloud-vision->unstructured[pdf]) (1.62.3)\n",
            "Requirement already satisfied: cachetools<6.0,>=2.0.0 in /usr/local/lib/python3.10/dist-packages (from google-auth!=2.24.0,!=2.25.0,<3.0.0dev,>=2.14.1->google-cloud-vision->unstructured[pdf]) (5.5.0)\n",
            "Requirement already satisfied: pyasn1-modules>=0.2.1 in /usr/local/lib/python3.10/dist-packages (from google-auth!=2.24.0,!=2.25.0,<3.0.0dev,>=2.14.1->google-cloud-vision->unstructured[pdf]) (0.4.1)\n",
            "Requirement already satisfied: rsa<5,>=3.1.4 in /usr/local/lib/python3.10/dist-packages (from google-auth!=2.24.0,!=2.25.0,<3.0.0dev,>=2.14.1->google-cloud-vision->unstructured[pdf]) (4.9)\n",
            "Requirement already satisfied: anyio in /usr/local/lib/python3.10/dist-packages (from httpx>=0.27.0->unstructured-client->unstructured[pdf]) (3.7.1)\n",
            "Requirement already satisfied: httpcore==1.* in /usr/local/lib/python3.10/dist-packages (from httpx>=0.27.0->unstructured-client->unstructured[pdf]) (1.0.7)\n",
            "Requirement already satisfied: sniffio in /usr/local/lib/python3.10/dist-packages (from httpx>=0.27.0->unstructured-client->unstructured[pdf]) (1.3.1)\n",
            "Requirement already satisfied: h11<0.15,>=0.13 in /usr/local/lib/python3.10/dist-packages (from httpcore==1.*->httpx>=0.27.0->unstructured-client->unstructured[pdf]) (0.14.0)\n",
            "Requirement already satisfied: antlr4-python3-runtime==4.9.* in /usr/local/lib/python3.10/dist-packages (from omegaconf>=2.0->effdet->unstructured[pdf]) (4.9.3)\n",
            "Requirement already satisfied: PyYAML>=5.1.0 in /usr/local/lib/python3.10/dist-packages (from omegaconf>=2.0->effdet->unstructured[pdf]) (6.0.2)\n",
            "Requirement already satisfied: coloredlogs in /usr/local/lib/python3.10/dist-packages (from onnxruntime>=1.17.0->unstructured-inference==0.8.1->unstructured[pdf]) (15.0.1)\n",
            "Requirement already satisfied: flatbuffers in /usr/local/lib/python3.10/dist-packages (from onnxruntime>=1.17.0->unstructured-inference==0.8.1->unstructured[pdf]) (24.3.25)\n",
            "Requirement already satisfied: sympy in /usr/local/lib/python3.10/dist-packages (from onnxruntime>=1.17.0->unstructured-inference==0.8.1->unstructured[pdf]) (1.13.1)\n",
            "Requirement already satisfied: contourpy>=1.0.1 in /usr/local/lib/python3.10/dist-packages (from matplotlib->unstructured-inference==0.8.1->unstructured[pdf]) (1.3.1)\n",
            "Requirement already satisfied: cycler>=0.10 in /usr/local/lib/python3.10/dist-packages (from matplotlib->unstructured-inference==0.8.1->unstructured[pdf]) (0.12.1)\n",
            "Requirement already satisfied: fonttools>=4.22.0 in /usr/local/lib/python3.10/dist-packages (from matplotlib->unstructured-inference==0.8.1->unstructured[pdf]) (4.55.0)\n",
            "Requirement already satisfied: kiwisolver>=1.0.1 in /usr/local/lib/python3.10/dist-packages (from matplotlib->unstructured-inference==0.8.1->unstructured[pdf]) (1.4.7)\n",
            "Requirement already satisfied: pyparsing>=2.3.1 in /usr/local/lib/python3.10/dist-packages (from matplotlib->unstructured-inference==0.8.1->unstructured[pdf]) (3.2.0)\n",
            "Requirement already satisfied: annotated-types>=0.6.0 in /usr/local/lib/python3.10/dist-packages (from pydantic<2.10.0,>=2.9.2->unstructured-client->unstructured[pdf]) (0.7.0)\n",
            "Requirement already satisfied: pydantic-core==2.23.4 in /usr/local/lib/python3.10/dist-packages (from pydantic<2.10.0,>=2.9.2->unstructured-client->unstructured[pdf]) (2.23.4)\n",
            "Requirement already satisfied: safetensors in /usr/local/lib/python3.10/dist-packages (from timm->unstructured-inference==0.8.1->unstructured[pdf]) (0.4.5)\n",
            "Requirement already satisfied: filelock in /usr/local/lib/python3.10/dist-packages (from torch->unstructured-inference==0.8.1->unstructured[pdf]) (3.16.1)\n",
            "Requirement already satisfied: networkx in /usr/local/lib/python3.10/dist-packages (from torch->unstructured-inference==0.8.1->unstructured[pdf]) (3.4.2)\n",
            "Requirement already satisfied: jinja2 in /usr/local/lib/python3.10/dist-packages (from torch->unstructured-inference==0.8.1->unstructured[pdf]) (3.1.4)\n",
            "Requirement already satisfied: fsspec in /usr/local/lib/python3.10/dist-packages (from torch->unstructured-inference==0.8.1->unstructured[pdf]) (2024.10.0)\n",
            "Requirement already satisfied: mpmath<1.4,>=1.1.0 in /usr/local/lib/python3.10/dist-packages (from sympy->onnxruntime>=1.17.0->unstructured-inference==0.8.1->unstructured[pdf]) (1.3.0)\n",
            "Requirement already satisfied: tokenizers<0.21,>=0.20 in /usr/local/lib/python3.10/dist-packages (from transformers>=4.25.1->unstructured-inference==0.8.1->unstructured[pdf]) (0.20.3)\n",
            "Requirement already satisfied: mypy-extensions>=0.3.0 in /usr/local/lib/python3.10/dist-packages (from typing-inspect<1,>=0.4.0->dataclasses-json->unstructured[pdf]) (1.0.0)\n",
            "Requirement already satisfied: scipy in /usr/local/lib/python3.10/dist-packages (from layoutparser->unstructured-inference==0.8.1->unstructured[pdf]) (1.13.1)\n",
            "Requirement already satisfied: pandas in /usr/local/lib/python3.10/dist-packages (from layoutparser->unstructured-inference==0.8.1->unstructured[pdf]) (2.2.2)\n",
            "Requirement already satisfied: iopath in /usr/local/lib/python3.10/dist-packages (from layoutparser->unstructured-inference==0.8.1->unstructured[pdf]) (0.1.10)\n",
            "Requirement already satisfied: pdfplumber in /usr/local/lib/python3.10/dist-packages (from layoutparser->unstructured-inference==0.8.1->unstructured[pdf]) (0.11.4)\n",
            "Requirement already satisfied: pycparser in /usr/local/lib/python3.10/dist-packages (from cffi>=1.12->cryptography>=36.0.0->pdfminer.six->unstructured[pdf]) (2.22)\n",
            "Requirement already satisfied: pyasn1<0.7.0,>=0.4.6 in /usr/local/lib/python3.10/dist-packages (from pyasn1-modules>=0.2.1->google-auth!=2.24.0,!=2.25.0,<3.0.0dev,>=2.14.1->google-cloud-vision->unstructured[pdf]) (0.6.1)\n",
            "Requirement already satisfied: exceptiongroup in /usr/local/lib/python3.10/dist-packages (from anyio->httpx>=0.27.0->unstructured-client->unstructured[pdf]) (1.2.2)\n",
            "Requirement already satisfied: humanfriendly>=9.1 in /usr/local/lib/python3.10/dist-packages (from coloredlogs->onnxruntime>=1.17.0->unstructured-inference==0.8.1->unstructured[pdf]) (10.0)\n",
            "Requirement already satisfied: portalocker in /usr/local/lib/python3.10/dist-packages (from iopath->layoutparser->unstructured-inference==0.8.1->unstructured[pdf]) (3.0.0)\n",
            "Requirement already satisfied: MarkupSafe>=2.0 in /usr/local/lib/python3.10/dist-packages (from jinja2->torch->unstructured-inference==0.8.1->unstructured[pdf]) (3.0.2)\n",
            "Requirement already satisfied: pytz>=2020.1 in /usr/local/lib/python3.10/dist-packages (from pandas->layoutparser->unstructured-inference==0.8.1->unstructured[pdf]) (2024.2)\n",
            "Requirement already satisfied: tzdata>=2022.7 in /usr/local/lib/python3.10/dist-packages (from pandas->layoutparser->unstructured-inference==0.8.1->unstructured[pdf]) (2024.2)\n",
            "Requirement already satisfied: pypdfium2>=4.18.0 in /usr/local/lib/python3.10/dist-packages (from pdfplumber->layoutparser->unstructured-inference==0.8.1->unstructured[pdf]) (4.30.0)\n"
          ]
        }
      ]
    },
    {
      "cell_type": "code",
      "source": [
        "from langchain.document_loaders import DirectoryLoader\n",
        "\n",
        "loader=DirectoryLoader(\"./data\",glob=\"**/*.pdf\")\n",
        "data=loader.load()"
      ],
      "metadata": {
        "id": "M7uxeTq19GvH"
      },
      "execution_count": 8,
      "outputs": []
    },
    {
      "cell_type": "code",
      "source": [
        "data"
      ],
      "metadata": {
        "colab": {
          "base_uri": "https://localhost:8080/"
        },
        "collapsed": true,
        "id": "H1U_LlN79SrK",
        "outputId": "dc88a9e7-49c5-4fc4-dc4d-5e7451487d56"
      },
      "execution_count": 9,
      "outputs": [
        {
          "output_type": "execute_result",
          "data": {
            "text/plain": [
              "[Document(metadata={'source': 'data/yolov7paper.pdf'}, page_content='2 2 0 2\\n\\nl u J\\n\\n6\\n\\n]\\n\\nV C . s c [\\n\\n1 v 6 9 6 2 0 . 7 0 2 2 : v i X r a\\n\\nYOLOv7: Trainable bag-of-freebies sets new state-of-the-art for real-time object detectors\\n\\nChien-Yao Wang1, Alexey Bochkovskiy, and Hong-Yuan Mark Liao1 1Institute of Information Science, Academia Sinica, Taiwan kinyiu@iis.sinica.edu.tw, alexeyab84@gmail.com, and liao@iis.sinica.edu.tw\\n\\nAbstract\\n\\nYOLOv7 surpasses all known object detectors in both speed and accuracy in the range from 5 FPS to 160 FPS and has the highest accuracy 56.8% AP among all known real-time object detectors with 30 FPS or higher on GPU V100. YOLOv7-E6 object detector (56 FPS V100, 55.9% AP) outperforms both transformer-based detector SWIN- L Cascade-Mask R-CNN (9.2 FPS A100, 53.9% AP) by 509% in speed and 2% in accuracy, and convolutional- based detector ConvNeXt-XL Cascade-Mask R-CNN (8.6 FPS A100, 55.2% AP) by 551% in speed and 0.7% AP in accuracy, as well as YOLOv7 outperforms: YOLOR, YOLOX, Scaled-YOLOv4, YOLOv5, DETR, Deformable DETR, DINO-5scale-R50, ViT-Adapter-B and many other object detectors in speed and accuracy. Moreover, we train YOLOv7 only on MS COCO dataset from scratch without using any other datasets or pre-trained weights. Source code is released in https:// github.com/ WongKinYiu/ yolov7.\\n\\nFigure 1: Comparison with other real-time object detectors, our proposed methods achieve state-of-the-arts performance.\\n\\n1. Introduction\\n\\nReal-time object detection is a very important topic in computer vision, as it is often a necessary component in computer vision systems. For example, multi-object track- ing [94, 93], autonomous driving [40, 18], robotics [35, 58], medical image analysis [34, 46], etc. The computing de- vices that execute real-time object detection is usually some mobile CPU or GPU, as well as various neural processing units (NPU) developed by major manufacturers. For exam- ple, the Apple neural engine (Apple), the neural compute stick (Intel), Jetson AI edge devices (Nvidia), the edge TPU (Google), the neural processing engine (Qualcomm), the AI processing unit (MediaTek), and the AI SoCs (Kneron), are all NPUs. Some of the above mentioned edge devices focus on speeding up different operations such as vanilla convolu- tion, depth-wise convolution, or MLP operations. In this pa- per, the real-time object detector we proposed mainly hopes that it can support both mobile GPU and GPU devices from the edge to the cloud.\\n\\nopment of MCUNet [49, 48] and NanoDet [54] focused on producing low-power single-chip and improving the infer- ence speed on edge CPU. As for methods such as YOLOX [21] and YOLOR [81], they focus on improving the infer- ence speed of various GPUs. More recently, the develop- ment of real-time object detector has focused on the de- sign of efﬁcient architecture. As for real-time object de- tectors that can be used on CPU [54, 88, 84, 83], their de- sign is mostly based on MobileNet [28, 66, 27], ShufﬂeNet [92, 55], or GhostNet [25]. Another mainstream real-time object detectors are developed for GPU [81, 21, 97], they mostly use ResNet [26], DarkNet [63], or DLA [87], and then use the CSPNet [80] strategy to optimize the architec- ture. The development direction of the proposed methods in this paper are different from that of the current mainstream real-time object detectors. In addition to architecture op- timization, our proposed methods will focus on the opti- mization of the training process. Our focus will be on some optimized modules and optimization methods which may strengthen the training cost for improving the accuracy of object detection, but without increasing the inference cost. We call the proposed modules and optimization methods trainable bag-of-freebies.\\n\\nIn recent years, the real-time object detector is still de- veloped for different edge device. For example, the devel-\\n\\n1\\n\\nRecently, model re-parameterization [13, 12, 29] and dy- namic label assignment [20, 17, 42] have become important topics in network training and object detection. Mainly af- ter the above new concepts are proposed, the training of object detector evolves many new issues. In this paper, we will present some of the new issues we have discovered and devise effective methods to address them. For model re- parameterization, we analyze the model re-parameterization strategies applicable to layers in different networks with the concept of gradient propagation path, and propose planned re-parameterized model. In addition, when we discover that with dynamic label assignment technology, the training of model with multiple output layers will generate new issues. That is: “How to assign dynamic targets for the outputs of different branches?” For this problem, we propose a new label assignment method called coarse-to-ﬁne lead guided label assignment.\\n\\nThe contributions of this paper are summarized as fol- lows: (1) we design several trainable bag-of-freebies meth- ods, so that real-time object detection can greatly improve the detection accuracy without increasing the inference cost; (2) for the evolution of object detection methods, we found two new issues, namely how re-parameterized mod- ule replaces original module, and how dynamic label as- signment strategy deals with assignment to different output layers. In addition, we also propose methods to address the difﬁculties arising from these issues; (3) we propose “ex- tend” and “compound scaling” methods for the real-time object detector that can effectively utilize parameters and computation; and (4) the method we proposed can effec- tively reduce about 40% parameters and 50% computation of state-of-the-art real-time object detector, and has faster inference speed and higher detection accuracy.\\n\\n2. Related work\\n\\n2.1. Real-time object detectors\\n\\nCurrently state-of-the-art real-time object detectors are mainly based on YOLO [61, 62, 63] and FCOS [76, 77], which are [3, 79, 81, 21, 54, 85, 23]. Being able to become a state-of-the-art real-time object detector usually requires the following characteristics: (1) a faster and stronger net- work architecture; (2) a more effective feature integration method [22, 97, 37, 74, 59, 30, 9, 45]; (3) a more accurate detection method [76, 77, 69]; (4) a more robust loss func- tion [96, 64, 6, 56, 95, 57]; (5) a more efﬁcient label assign- ment method [99, 20, 17, 82, 42]; and (6) a more efﬁcient training method. In this paper, we do not intend to explore self-supervised learning or knowledge distillation methods that require additional data or large model. Instead, we will design new trainable bag-of-freebies method for the issues derived from the state-of-the-art methods associated with (4), (5), and (6) mentioned above.\\n\\n2\\n\\n2.2. Model re-parameterization\\n\\nModel re-parametrization techniques [71, 31, 75, 19, 33, 11, 4, 24, 13, 12, 10, 29, 14, 78] merge multiple compu- tational modules into one at inference stage. The model re-parameterization technique can be regarded as an en- semble technique, and we can divide it into two cate- gories, i.e., module-level ensemble and model-level ensem- ble. There are two common practices for model-level re- parameterization to obtain the ﬁnal inference model. One is to train multiple identical models with different train- ing data, and then average the weights of multiple trained models. The other is to perform a weighted average of the weights of models at different iteration number. Module- level re-parameterization is a more popular research issue recently. This type of method splits a module into multi- ple identical or different module branches during training and integrates multiple branched modules into a completely equivalent module during inference. However, not all pro- posed re-parameterized module can be perfectly applied to different architectures. With this in mind, we have devel- oped new re-parameterization module and designed related application strategies for various architectures.\\n\\n2.3. Model scaling\\n\\nModel scaling [72, 60, 74, 73, 15, 16, 2, 51] is a way to scale up or down an already designed model and make it ﬁt in different computing devices. The model scaling method usually uses different scaling factors, such as reso- lution (size of input image), depth (number of layer), width (number of channel), and stage (number of feature pyra- mid), so as to achieve a good trade-off for the amount of network parameters, computation, inference speed, and ac- curacy. Network architecture search (NAS) is one of the commonly used model scaling methods. NAS can automat- ically search for suitable scaling factors from search space without deﬁning too complicated rules. The disadvantage of NAS is that it requires very expensive computation to complete the search for model scaling factors. In [15], the researcher analyzes the relationship between scaling factors and the amount of parameters and operations, trying to di- rectly estimate some rules, and thereby obtain the scaling factors required by model scaling. Checking the literature, we found that almost all model scaling methods analyze in- dividual scaling factor independently, and even the methods in the compound scaling category also optimized scaling factor independently. The reason for this is because most popular NAS architectures deal with scaling factors that are not very correlated. We observed that all concatenation- based models, such as DenseNet [32] or VoVNet [39], will change the input width of some layers when the depth of such models is scaled. Since the proposed architecture is concatenation-based, we have to design a new compound scaling method for this model.\\n\\nFigure 2: Extended efﬁcient layer aggregation networks. The proposed extended ELAN (E-ELAN) does not change the gradient transmis- sion path of the original architecture at all, but use group convolution to increase the cardinality of the added features, and combine the features of different groups in a shufﬂe and merge cardinality manner. This way of operation can enhance the features learned by different feature maps and improve the use of parameters and calculations.\\n\\n3. Architecture\\n\\n3.1. Extended efﬁcient layer aggregation networks\\n\\nIn most of the literature on designing the efﬁcient ar- chitectures, the main considerations are no more than the number of parameters, the amount of computation, and the computational density. Starting from the characteristics of memory access cost, Ma et al. [55] also analyzed the in- ﬂuence of the input/output channel ratio, the number of branches of the architecture, and the element-wise opera- tion on the network inference speed. Doll´ar et al. [15] addi- tionally considered activation when performing model scal- ing, that is, to put more consideration on the number of el- ements in the output tensors of convolutional layers. The design of CSPVoVNet [79] in Figure 2 (b) is a variation of VoVNet [39]. In addition to considering the aforementioned basic designing concerns, the architecture of CSPVoVNet [79] also analyzes the gradient path, in order to enable the weights of different layers to learn more diverse features. The gradient analysis approach described above makes in- ferences faster and more accurate. ELAN [1] in Figure 2 (c) considers the following design strategy – “How to design an efﬁcient network?.” They came out with a conclusion: By controlling the shortest longest gradient path, a deeper net- work can learn and converge effectively. In this paper, we propose Extended-ELAN (E-ELAN) based on ELAN and its main architecture is shown in Figure 2 (d).\\n\\nRegardless of the gradient path length and the stacking number of computational blocks in large-scale ELAN, it has If more computational blocks are reached a stable state. stacked unlimitedly, this stable state may be destroyed, and the parameter utilization rate will decrease. The proposed\\n\\nE-ELAN uses expand, shufﬂe, merge cardinality to achieve the ability to continuously enhance the learning ability of the network without destroying the original gradient path. In terms of architecture, E-ELAN only changes the archi- tecture in computational block, while the architecture of transition layer is completely unchanged. Our strategy is to use group convolution to expand the channel and car- dinality of computational blocks. We will apply the same group parameter and channel multiplier to all the compu- tational blocks of a computational layer. Then, the feature map calculated by each computational block will be shuf- ﬂed into g groups according to the set group parameter g, and then concatenate them together. At this time, the num- ber of channels in each group of feature map will be the same as the number of channels in the original architec- ture. Finally, we add g groups of feature maps to perform merge cardinality. In addition to maintaining the original ELAN design architecture, E-ELAN can also guide differ- ent groups of computational blocks to learn more diverse features.\\n\\n3.2. Model scaling for concatenation-based models\\n\\nThe main purpose of model scaling is to adjust some at- tributes of the model and generate models of different scales to meet the needs of different inference speeds. For ex- ample the scaling model of EfﬁcientNet [72] considers the width, depth, and resolution. As for the scaled-YOLOv4 [79], its scaling model is to adjust the number of stages. In [15], Doll´ar et al. analyzed the inﬂuence of vanilla convolu- tion and group convolution on the amount of parameter and computation when performing width and depth scaling, and used this to design the corresponding model scaling method.\\n\\n3\\n\\nFigure 3: Model scaling for concatenation-based models. From (a) to (b), we observe that when depth scaling is performed on concatenation-based models, the output width of a computational block also increases. This phenomenon will cause the input width of the subsequent transmission layer to increase. Therefore, we propose (c), that is, when performing model scaling on concatenation- based models, only the depth in a computational block needs to be scaled, and the remaining of transmission layer is performed with corresponding width scaling.\\n\\nThe above methods are mainly used in architectures such as PlainNet or ResNet. When these architectures are in execut- ing scaling up or scaling down, the in-degree and out-degree of each layer will not change, so we can independently an- alyze the impact of each scaling factor on the amount of parameters and computation. However, if these methods are applied to the concatenation-based architecture, we will ﬁnd that when scaling up or scaling down is performed on depth, the in-degree of a translation layer which is immedi- ately after a concatenation-based computational block will decrease or increase, as shown in Figure 3 (a) and (b).\\n\\nIt can be inferred from the above phenomenon that we cannot analyze different scaling factors separately for a concatenation-based model but must be considered to- gether. Take scaling-up depth as an example, such an ac- tion will cause a ratio change between the input channel and output channel of a transition layer, which may lead to a de- crease in the hardware usage of the model. Therefore, we must propose the corresponding compound model scaling method for a concatenation-based model. When we scale the depth factor of a computational block, we must also cal- culate the change of the output channel of that block. Then, we will perform width factor scaling with the same amount of change on the transition layers, and the result is shown in Figure 3 (c). Our proposed compound scaling method can maintain the properties that the model had at the initial design and maintains the optimal structure.\\n\\n4. Trainable bag-of-freebies\\n\\n4.1. Planned re-parameterized convolution\\n\\nAlthough RepConv [13] has achieved excellent perfor- mance on the VGG [68], when we directly apply it to ResNet [26] and DenseNet [32] and other architectures, its accuracy will be signiﬁcantly reduced. We use gradi- ent ﬂow propagation paths to analyze how re-parameterized convolution should be combined with different network. We also designed planned re-parameterized convolution ac- cordingly.\\n\\nIn the proposed Figure 4: Planned re-parameterized model. planned re-parameterized model, we found that a layer with resid- ual or concatenation connections, its RepConv should not have identity connection. Under these circumstances, it can be replaced by RepConvN that contains no identity connections.\\n\\nRepConv actually combines 3 × 3 convolution, 1 × 1 convolution, and identity connection in one convolutional layer. After analyzing the combination and correspond- ing performance of RepConv and different architectures, we ﬁnd that the identity connection in RepConv destroys the residual in ResNet and the concatenation in DenseNet, which provides more diversity of gradients for different fea- ture maps. For the above reasons, we use RepConv with- out identity connection (RepConvN) to design the architec- ture of planned re-parameterized convolution. In our think- ing, when a convolutional layer with residual or concate- nation is replaced by re-parameterized convolution, there should be no identity connection. Figure 4 shows an exam- ple of our designed “planned re-parameterized convolution” used in PlainNet and ResNet. As for the complete planned re-parameterized convolution experiment in residual-based model and concatenation-based model, it will be presented in the ablation study session.\\n\\n4\\n\\nFigure 5: Coarse for auxiliary and ﬁne for lead head label assigner. Compare with normal model (a), the schema in (b) has auxiliary head. Different from the usual independent label assigner (c), we propose (d) lead head guided label assigner and (e) coarse-to-ﬁne lead head guided label assigner. The proposed label assigner is optimized by lead head prediction and the ground truth to get the labels of training lead head and auxiliary head at the same time. The detailed coarse-to-ﬁne implementation method and constraint design details will be elaborated in Apendix.\\n\\n4.2. Coarse for auxiliary and ﬁne for lead loss\\n\\nDeep supervision [38] is a technique that is often used in training deep networks. Its main concept is to add extra auxiliary head in the middle layers of the network, and the shallow network weights with assistant loss as the guide. Even for architectures such as ResNet [26] and DenseNet [32] which usually converge well, deep supervi- sion [70, 98, 67, 47, 82, 65, 86, 50] can still signiﬁcantly improve the performance of the model on many tasks. Fig- ure 5 (a) and (b) show, respectively, the object detector ar- chitecture “without” and “with” deep supervision. In this paper, we call the head responsible for the ﬁnal output as the lead head, and the head used to assist training is called auxiliary head.\\n\\nNext we want to discuss the issue of label assignment. In the past, in the training of deep network, label assignment usually refers directly to the ground truth and generate hard label according to the given rules. However, in recent years, if we take object detection as an example, researchers often use the quality and distribution of prediction output by the network, and then consider together with the ground truth to use some calculation and optimization methods to generate a reliable soft label [61, 8, 36, 99, 91, 44, 43, 90, 20, 17, 42]. For example, YOLO [61] use IoU of prediction of bounding box regression and ground truth as the soft label of object- ness. In this paper, we call the mechanism that considers the network prediction results together with the ground truth and then assigns soft labels as “label assigner.”\\n\\nDeep supervision needs to be trained on the target ob- jectives regardless of the circumstances of auxiliary head or lead head. During the development of soft label assigner re- lated techniques, we accidentally discovered a new deriva- tive issue, i.e., “How to assign soft label to auxiliary head and lead head ?” To the best of our knowledge, the relevant literature has not explored this issue so far. The results of the most popular method at present is as shown in Figure 5 (c), which is to separate auxiliary head and lead head, and then use their own prediction results and the ground truth\\n\\nto execute label assignment. The method proposed in this paper is a new label assignment method that guides both auxiliary head and lead head by the lead head prediction. In other words, we use lead head prediction as guidance to generate coarse-to-ﬁne hierarchical labels, which are used for auxiliary head and lead head learning, respectively. The two proposed deep supervision label assignment strategies are shown in Figure 5 (d) and (e), respectively.\\n\\nLead head guided label assigner is mainly calculated based on the prediction result of the lead head and the ground truth, and generate soft label through the optimiza- tion process. This set of soft labels will be used as the tar- get training model for both auxiliary head and lead head. The reason to do this is because lead head has a relatively strong learning capability, so the soft label generated from it should be more representative of the distribution and corre- lation between the source data and the target. Furthermore, we can view such learning as a kind of generalized residual learning. By letting the shallower auxiliary head directly learn the information that lead head has learned, lead head will be more able to focus on learning residual information that has not yet been learned.\\n\\nCoarse-to-ﬁne lead head guided label assigner also used the predicted result of the lead head and the ground truth to generate soft label. However, in the process we gen- erate two different sets of soft label, i.e., coarse label and ﬁne label, where ﬁne label is the same as the soft label gen- erated by lead head guided label assigner, and coarse label is generated by allowing more grids to be treated as posi- tive target by relaxing the constraints of the positive sample assignment process. The reason for this is that the learning ability of an auxiliary head is not as strong as that of a lead head, and in order to avoid losing the information that needs to be learned, we will focus on optimizing the recall of aux- iliary head in the object detection task. As for the output of lead head, we can ﬁlter the high precision results from the high recall results as the ﬁnal output. However, we must note that if the additional weight of coarse label is close to\\n\\n5\\n\\nTable 1: Comparison of baseline object detectors.\\n\\nModel\\n\\n#Param.\\n\\nFLOPs\\n\\nSize\\n\\nAPval\\n\\nAPval 50\\n\\nAPval 75\\n\\nAPval S\\n\\nAPval M\\n\\nAPval L\\n\\nYOLOv4 [3] YOLOR-u5 (r6.1) [81] YOLOv4-CSP [79] YOLOR-CSP [81] YOLOv7 improvement\\n\\n64.4M 46.5M 52.9M 52.9M 36.9M -43%\\n\\n142.8G 109.1G 120.4G 120.4G 104.7G -15%\\n\\n640 640 640 640 640 -\\n\\n49.7% 63.7% 50.2% 63.7% 50.3% 65.1% 65.4% 50.8% 51.2% 69.7% 55.5% 35.2% 56.0% 66.7% +1.3 +0.4\\n\\n68.2% 68.7% 68.6% 69.5%\\n\\n54.3% 54.6% 54.9% 55.3%\\n\\n32.9% 33.2% 34.2% 33.7%\\n\\n54.8% 55.5% 55.6% 56.0%\\n\\n+0.2\\n\\n+0.2\\n\\n+1.5\\n\\n=\\n\\nYOLOR-CSP-X [81] YOLOv7-X improvement\\n\\n96.9M 71.3M -36%\\n\\n226.8G 189.9G -19%\\n\\n640 640 -\\n\\n52.7% 71.3% 57.4% 68.3% 52.9% 71.1% 57.5% 36.9% 57.7% 68.6% +0.3 +0.2\\n\\n36.3%\\n\\n57.5%\\n\\n0.2\\n\\n+0.1\\n\\n+0.6\\n\\n+0.2\\n\\nYOLOv4-tiny [79] YOLOv7-tiny improvement\\n\\n6.1 6.2 +2%\\n\\n6.9 5.8 -19%\\n\\n416 416 -\\n\\n24.9% 39.2% 35.2% 52.8% 37.3% 15.7% 38.0% 53.4% +14.2 +10.3\\n\\n42.1%\\n\\n25.7%\\n\\n8.7%\\n\\n28.4%\\n\\n+10.7\\n\\n+11.6\\n\\n+7.0\\n\\n+9.6\\n\\nYOLOv4-tiny-3l [79] YOLOv7-tiny improvement\\n\\n8.7 6.2 -39%\\n\\n5.2 3.5 -49%\\n\\n320 320 -\\n\\n51.5% 30.8% 30.8% 47.3% 32.2% 10.0% 31.9% 52.2% +0.7\\n\\n47.3%\\n\\n32.2% 10.9% 31.9%\\n\\n=\\n\\n=\\n\\n=\\n\\n0.9\\n\\n=\\n\\nYOLOR-E6 [81] YOLOv7-E6 improvement\\n\\n115.8M 97.2M -19%\\n\\n683.2G 515.2G -33%\\n\\n1280 1280 -\\n\\n40.1% 60.4% 69.2% 55.7% 55.9% 73.5% 61.1% 40.6% 60.3% 70.0% +0.8 +0.2\\n\\n73.2%\\n\\n60.7%\\n\\n+0.3\\n\\n+0.4\\n\\n+0.5\\n\\n0.1\\n\\nYOLOR-D6 [81] YOLOv7-D6 YOLOv7-E6E improvement\\n\\n151.7M 154.7M 151.7M =\\n\\n935.6G 806.8G 843.2G -11%\\n\\n1280 1280 1280 -\\n\\n69.9% 56.1% 56.3% 70.1% 56.8% 74.4% 62.1% 40.8% 62.1% 70.6% +0.7 +0.7\\n\\n73.9% 73.8%\\n\\n61.2% 42.4% 60.5% 60.6% 41.3% 61.4%\\n\\n+0.5\\n\\n+0.9\\n\\n1.6\\n\\n+1.6\\n\\nthat of ﬁne label, it may produce bad prior at ﬁnal predic- tion. Therefore, in order to make those extra coarse positive grids have less impact, we put restrictions in the decoder, so that the extra coarse positive grids cannot produce soft label perfectly. The mechanism mentioned above allows the importance of ﬁne label and coarse label to be dynam- ically adjusted during the learning process, and makes the optimizable upper bound of ﬁne label always higher than coarse label.\\n\\n4.3. Other trainable bag-of-freebies\\n\\n5. Experiments\\n\\n5.1. Experimental setup\\n\\nWe use Microsoft COCO dataset to conduct experiments and validate our object detection method. All our experi- ments did not use pre-trained models. That is, all models were trained from scratch. During the development pro- cess, we used train 2017 set for training, and then used val 2017 set for veriﬁcation and choosing hyperparameters. Fi- nally, we show the performance of object detection on the test 2017 set and compare it with the state-of-the-art object detection algorithms. Detailed training parameter settings are described in Appendix.\\n\\nlist some trainable bag-of- freebies. These freebies are some of the tricks we used in training, but the original concepts were not proposed by us. The training details of these freebies will be elab- orated in the Appendix, including (1) Batch normalization in conv-bn-activation topology: This part mainly connects batch normalization layer directly to convolutional layer. The purpose of this is to integrate the mean and variance of batch normalization into the bias and weight of convolu- tional layer at the inference stage. (2) Implicit knowledge in YOLOR [81] combined with convolution feature map in addition and multiplication manner: Implicit knowledge in YOLOR can be simpliﬁed to a vector by pre-computing at the inference stage. This vector can be combined with the bias and weight of the previous or subsequent convolutional layer. (3) EMA model: EMA is a technique used in mean teacher [75], and in our system we use EMA model purely as the ﬁnal inference model.\\n\\nIn this section we will\\n\\nWe designed basic model for edge GPU, normal GPU, and cloud GPU, and they are respectively called YOLOv7- tiny, YOLOv7, and YOLOv7-W6. At the same time, we also use basic model for model scaling for different ser- vice requirements and get different types of models. For YOLOv7, we do stack scaling on neck, and use the pro- posed compound scaling method to perform scaling-up of the depth and width of the entire model, and use this to ob- tain YOLOv7-X. As for YOLOv7-W6, we use the newly proposed compound scaling method to obtain YOLOv7-E6 In addition, we use the proposed E- and YOLOv7-D6. ELAN for YOLOv7-E6, and thereby complete YOLOv7- E6E. Since YOLOv7-tiny is an edge GPU-oriented archi- tecture, it will use leaky ReLU as activation function. As for other models we use SiLU as activation function. We will describe the scaling factor of each model in detail in Appendix.\\n\\n6\\n\\nTable 2: Comparison of state-of-the-art real-time object detectors.\\n\\nModel\\n\\n#Param.\\n\\nFLOPs\\n\\nSize\\n\\nFPS\\n\\nAPtest / APval\\n\\nAPtest 50\\n\\nAPtest 75\\n\\nAPtest S\\n\\nAPtest M\\n\\nAPtest L\\n\\nYOLOX-S [21] YOLOX-M [21] YOLOX-L [21] YOLOX-X [21]\\n\\n9.0M 25.3M 54.2M 99.1M\\n\\n26.8G 73.8G 155.6G 281.9G\\n\\n640 640 640 640\\n\\n102 81 69 58\\n\\n40.5% / 40.5% 47.2% / 46.9% 50.1% / 49.7% 51.5% / 51.1%\\n\\n- - -\\n\\n- - -\\n\\n- - -\\n\\n- - -\\n\\n- - -\\n\\nPPYOLOE-S [85] PPYOLOE-M [85] PPYOLOE-L [85] PPYOLOE-X [85]\\n\\n7.9M 23.4M 52.2M 98.4M\\n\\n17.4G 49.9G 110.1G 206.6G\\n\\n640 640 640 640\\n\\n208 123 78 45\\n\\n43.1% / 42.7% 48.9% / 48.6% 51.4% / 50.9% 52.2% / 51.9%\\n\\n60.5% 66.5% 68.9% 69.9%\\n\\n46.6% 53.0% 55.6% 56.5%\\n\\n23.2% 28.6% 31.4% 33.3%\\n\\n46.4% 52.9% 55.3% 56.3%\\n\\n56.9% 63.8% 66.1% 66.4%\\n\\nYOLOv5-N (r6.1) [23] YOLOv5-S (r6.1) [23] YOLOv5-M (r6.1) [23] YOLOv5-L (r6.1) [23] YOLOv5-X (r6.1) [23]\\n\\n1.9M 7.2M 21.2M 46.5M 86.7M\\n\\n4.5G 16.5G 49.0G 109.1G 205.7G\\n\\n640 640 640 640 640\\n\\n159 156 122 99 83\\n\\n/ 28.0% - / 37.4% - / 45.4% - / 49.0% - / 50.7%\\n\\n- - - -\\n\\n- - - -\\n\\n- - - -\\n\\n- - - -\\n\\n- - - -\\n\\nYOLOR-CSP [81] YOLOR-CSP-X [81]\\n\\n52.9M 96.9M\\n\\n120.4G 226.8G\\n\\n640 640\\n\\n106 87\\n\\n51.1% / 50.8% 53.0% / 52.7%\\n\\n69.6% 71.4%\\n\\n55.7% 57.9%\\n\\n31.7% 33.7%\\n\\n55.3% 57.1%\\n\\n64.7% 66.8%\\n\\nYOLOv7-tiny-SiLU YOLOv7 YOLOv7-X\\n\\n6.2M 36.9M 71.3M\\n\\n13.8G 104.7G 189.9G\\n\\n640 640 640\\n\\n286 161 114\\n\\n38.7% / 38.7% 51.4% / 51.2% 53.1% / 52.9%\\n\\n56.7% 69.7% 71.2%\\n\\n41.7% 55.9% 57.8%\\n\\n18.8% 31.8% 33.8%\\n\\n42.4% 55.5% 57.1%\\n\\n51.9% 65.0% 67.4%\\n\\nYOLOv5-N6 (r6.1) [23] YOLOv5-S6 (r6.1) [23] YOLOv5-M6 (r6.1) [23] YOLOv5-L6 (r6.1) [23] YOLOv5-X6 (r6.1) [23]\\n\\n3.2M 12.6M 35.7M 76.8M 140.7M\\n\\n18.4G 67.2G 200.0G 445.6G 839.2G\\n\\n1280 1280 1280 1280 1280\\n\\n123 122 90 63 38\\n\\n/ 36.0% - / 44.8% - / 51.3% - / 53.7% - / 55.0%\\n\\n- - - -\\n\\n- - - -\\n\\n- - - -\\n\\n- - - -\\n\\n- - - -\\n\\nYOLOR-P6 [81] YOLOR-W6 [81] YOLOR-E6 [81] YOLOR-D6 [81]\\n\\n37.2M 79.8G 115.8M 151.7M\\n\\n325.6G 453.2G 683.2G 935.6G\\n\\n1280 1280 1280 1280\\n\\n76 66 45 34\\n\\n53.9% / 53.5% 55.2% / 54.8% 55.8% / 55.7% 56.5% / 56.1%\\n\\n71.4% 72.7% 73.4% 74.1%\\n\\n58.9% 60.5% 61.1% 61.9%\\n\\n36.1% 37.7% 38.4% 38.9%\\n\\n57.7% 59.1% 59.7% 60.4%\\n\\n65.6% 67.1% 67.7% 68.7%\\n\\nYOLOv7-W6 YOLOv7-E6 YOLOv7-D6 YOLOv7-E6E\\n\\n70.4M 97.2M 154.7M 151.7M\\n\\n360.0G 515.2G 806.8G 843.2G\\n\\n1280 1280 1280 1280\\n\\n84 56 44 36\\n\\n54.9% / 54.6% 56.0% / 55.9% 56.6% / 56.3% 56.8% / 56.8%\\n\\n72.6% 73.5% 74.0% 74.4%\\n\\n60.1% 61.2% 61.8% 62.1%\\n\\n37.3% 38.0% 38.8% 39.3%\\n\\n58.7% 59.9% 60.1% 60.5%\\n\\n67.1% 68.4% 69.5% 69.0%\\n\\n1 Our FLOPs is calaculated by rectangle input resolution like 640 × 640 or 1280 × 1280. 2 Our inference time is estimated by using letterbox resize input image to make its long side equals to 640 or 1280.\\n\\n5.2. Baselines\\n\\n5.3. Comparison with state-of-the-arts\\n\\nWe choose previous version of YOLO [3, 79] and state- of-the-art object detector YOLOR [81] as our baselines. Ta- ble 1 shows the comparison of our proposed YOLOv7 mod- els and those baseline that are trained with the same settings. From the results we see that if compared with YOLOv4, YOLOv7 has 75% less parameters, 36% less computation, and brings 1.5% higher AP. If compared with state-of-the- art YOLOR-CSP, YOLOv7 has 43% fewer parameters, 15% less computation, and 0.4% higher AP. In the performance of tiny model, compared with YOLOv4-tiny-31, YOLOv7- tiny reduces the number of parameters by 39% and the amount of computation by 49%, but maintains the same AP. On the cloud GPU model, our model can still have a higher AP while reducing the number of parameters by 19% and the amount of computation by 33%.\\n\\nWe compare the proposed method with state-of-the-art object detectors for general GPUs and Mobile GPUs, and the results are shown in Table 2. From the results in Table 2 we know that the proposed method has the best speed-accuracy trade-off comprehensively. If we compare YOLOv7-tiny-SiLU with YOLOv5-N (r6.1), our method is 127 fps faster and 10.7% more accurate on AP. In ad- dition, YOLOv7 has 51.4% AP at frame rate of 161 fps, while PPYOLOE-L with the same AP has only 78 fps frame rate. In terms of parameter usage, YOLOv7 is 41% less than PPYOLOE-L. If we compare YOLOv7-X with 114 fps in- ference speed to YOLOv5-L (r6.1) with 99 fps inference speed, YOLOv7-X can improve AP by 3.9%. If YOLOv7- X is compared with YOLOv5-X (r6.1) of similar scale, the inference speed of YOLOv7-X is 31 fps faster. In addi- tion, in terms of the amount of parameters and computation, YOLOv7-X reduces 22% of parameters and 8% of compu- tation compared to YOLOv5-X (r6.1), but improves AP by 2.2%.\\n\\n7\\n\\nIf we compare YOLOv7 with YOLOR using the input resolution 1280, the inference speed of YOLOv7-W6 is 8 fps faster than that of YOLOR-P6, and the detection rate is also increased by 1% AP. As for the comparison between YOLOv7-E6 and YOLOv5-X6 (r6.1), the former has 0.9% AP gain than the latter, 45% less parameters and 63% less computation, and the inference speed is increased by 47%. YOLOv7-D6 has close inference speed to YOLOR-E6, but improves AP by 0.8%. YOLOv7-E6E has close inference speed to YOLOR-D6, but improves AP by 0.3%.\\n\\n5.4. Ablation study\\n\\n5.4.1 Proposed compound scaling method\\n\\nTable 3 shows the results obtained when using different model scaling strategies for scaling up. Among them, our proposed compound scaling method is to scale up the depth of computational block by 1.5 times and the width of tran- sition block by 1.25 times. If our method is compared with the method that only scaled up the width, our method can improve the AP by 0.5% with less parameters and amount of computation. If our method is compared with the method that only scales up the depth, our method only needs to in- crease the number of parameters by 2.9% and the amount of computation by 1.2%, which can improve the AP by 0.2%. It can be seen from the results of Table 3 that our proposed compound scaling strategy can utilize parameters and com- putation more efﬁciently.\\n\\nTable 3: Ablation study on proposed model scaling.\\n\\n50 APval 75 base (v7-X light) 47.0M 125.5G 640 51.7% 70.1% 56.0% width only (1.25 w) 73.4M 195.5G 640 52.4% 70.9% 57.1% depth only (2.0 d) 69.3M 187.6G 640 52.7% 70.8% 57.3% 71.3M 189.9G 640 52.9% 71.1% 57.5% compound (v7-X) +1.5 improvement\\n\\n#Param. FLOPs Size APval APval\\n\\nModel\\n\\n\\n\\n\\n\\n\\n\\n+1.2\\n\\n+1.0\\n\\n5.4.2 Proposed planned re-parameterized model\\n\\nIn order to verify the generality of our proposed planed re-parameterized model, we use it on concatenation-based model and residual-based model respectively for veriﬁca- tion. The concatenation-based model and residual-based model we chose for veriﬁcation are 3-stacked ELAN and CSPDarknet, respectively.\\n\\nIn the experiment of concatenation-based model, we re- place the 3 × 3 convolutional layers in different positions in 3-stacked ELAN with RepConv, and the detailed conﬁgura- tion is shown in Figure 6. From the results shown in Table 4 we see that all higher AP values are present on our proposed planned re-parameterized model.\\n\\nIn the experiment dealing with residual-based model, since the original dark block does not have a 3 × 3 con-\\n\\n8\\n\\nFigure 6: Planned RepConv 3-stacked ELAN. Blue circles are the position we replace Conv by RepConv.\\n\\nTable 4: Ablation study on planned RepConcatenation model.\\n\\nM APval L base (3-S ELAN) 52.26% 70.41% 56.77% 35.81% 57.00% 67.59% Figure 6 (a) 52.18% 70.34% 56.90% 35.71% 56.83% 67.51% 52.30% 70.30% 56.92% 35.76% 56.95% 67.74% Figure 6 (b) 52.33% 70.56% 56.91% 35.90% 57.06% 67.50% Figure 6 (c) 52.17% 70.32% 56.82% 35.33% 57.06% 68.09% Figure 6 (d) Figure 6 (e) 52.23% 70.20% 56.81% 35.34% 56.97% 66.88%\\n\\nAPval APval\\n\\n50 APval\\n\\n75 APval\\n\\nAPval\\n\\nModel\\n\\nS\\n\\nvolution block that conforms to our design strategy, we ad- ditionally design a reversed dark block for the experiment, whose architecture is shown in Figure 7. Since the CSP- Darknet with dark block and reversed dark block has exactly the same amount of parameters and operations, it is fair to compare. The experiment results illustrated in Table 5 fully conﬁrm that the proposed planned re-parameterized model is equally effective on residual-based model. We ﬁnd that the design of RepCSPResNet [85] also ﬁt our design pat- tern.\\n\\nFigure 7: Reversed CSPDarknet. We reverse the position of 1 × 1 and 3 × 3 convolutional layer in dark block to ﬁt our planned re- parameterized model design strategy.\\n\\nTable 5: Ablation study on planned RepResidual model.\\n\\nM APval L base (YOLOR-W6) 54.82% 72.39% 59.95% 39.68% 59.38% 68.30% 54.67% 72.50% 59.58% 40.22% 59.61% 67.87% RepCSP RCSP 54.36% 71.95% 59.54% 40.15% 59.02% 67.44% 54.85% 72.51% 60.08% 40.53% 59.52% 68.06% RepRCSP\\n\\nAPval APval\\n\\n50 APval\\n\\n75 APval\\n\\nAPval\\n\\nModel\\n\\nS\\n\\nbase (YOLOR-CSP) 50.81% 69.47% 55.28% 33.74% 56.01% 65.38% 50.91% 69.54% 55.55% 34.44% 55.74% 65.46% RepRCSP\\n\\nFigure 8: Objectness map predicted by different methods at auxiliary head and lead head.\\n\\n5.4.3 Proposed assistant loss for auxiliary head\\n\\nIn the assistant loss for auxiliary head experiments, we com- pare the general independent label assignment for lead head and auxiliary head methods, and we also compare the two proposed lead guided label assignment methods. We show all comparison results in Table 6. From the results listed in Table 6, it is clear that any model that increases assistant loss can signiﬁcantly improve the overall performance. In addition, our proposed lead guided label assignment strat- egy receives better performance than the general indepen- dent label assignment strategy in AP, AP50, and AP75. As for our proposed coarse for assistant and ﬁne for lead label assignment strategy, it results in best results in all cases. In Figure 8 we show the objectness map predicted by different methods at auxiliary head and lead head. From Figure 8 we ﬁnd that if auxiliary head learns lead guided soft label, it will indeed help lead head to extract the residual informa- tion from the consistant targets.\\n\\nSince the proposed YOLOv7 uses multiple pyramids to jointly predict object detection results, we can directly con- nect auxiliary head to the pyramid in the middle layer for training. This type of training can make up for informa- tion that may be lost in the next level pyramid prediction. For the above reasons, we designed partial auxiliary head in the proposed E-ELAN architecture. Our approach is to connect auxiliary head after one of the sets of feature map before merging cardinality, and this connection can make the weight of the newly generated set of feature map not directly updated by assistant loss. Our design allows each pyramid of lead head to still get information from objects with different sizes. Table 8 shows the results obtained us- ing two different methods, i.e., coarse-to-ﬁne lead guided and partial coarse-to-ﬁne lead guided methods. Obviously, the partial coarse-to-ﬁne lead guided method has a better auxiliary effect.\\n\\nTable 8: Ablation study on partial auxiliary head.\\n\\nModel\\n\\nSize APval APval 50\\n\\nAPval 75\\n\\nTable 6: Ablation study on proposed auxiliary head.\\n\\nModel\\n\\nSize APval APval 50\\n\\nAPval 75\\n\\nbase (v7-E6) independent lead guided coarse-to-ﬁne lead guided improvement\\n\\n1280 1280 1280 1280 -\\n\\n55.6% 73.2% 60.7% 55.8% 73.4% 60.9% 55.9% 73.5% 61.0% 55.9% 73.5% 61.1% +0.4 +0.3 +0.3\\n\\nbase (v7-E6E) aux partial aux improvement\\n\\n6. Conclusions\\n\\n1280 1280 1280 -\\n\\n56.3% 74.0% 61.5% 56.5% 74.0% 61.6% 56.8% 74.4% 62.1% +0.6 +0.4 +0.5\\n\\nIn Table 7 we further analyze the effect of the proposed coarse-to-ﬁne lead guided label assignment method on the decoder of auxiliary head. That is, we compared the results of with/without the introduction of upper bound constraint. Judging from the numbers in the Table, the method of con- straining the upper bound of objectness by the distance from the center of the object can achieve better performance.\\n\\nIn this paper we propose a new architecture of real- time object detector and the corresponding model scaling method. Furthermore, we ﬁnd that the evolving process of object detection methods generates new research top- ics. During the research process, we found the replace- ment problem of re-parameterized module and the alloca- tion problem of dynamic label assignment. To solve the problem, we propose the trainable bag-of-freebies method to enhance the accuracy of object detection. Based on the above, we have developed the YOLOv7 series of object de- tection systems, which receives the state-of-the-art results.\\n\\nTable 7: Ablation study on constrained auxiliary head.\\n\\nModel\\n\\nSize APval APval 50\\n\\nAPval 75\\n\\n7. Acknowledgements\\n\\nbase (v7-E6) aux without constraint aux with constraint improvement\\n\\n1280 1280 1280 -\\n\\n55.6% 73.2% 60.7% 55.9% 73.5% 61.0% 55.9% 73.5% 61.1% +0.4 +0.3 +0.3\\n\\nThe authors wish to thank National Center for High- performance Computing (NCHC) for providing computa- tional and storage resources.\\n\\n9\\n\\nTable 9: More comparison (batch=1, no-TRT, without extra object detection training data)\\n\\nModel\\n\\n#Param.\\n\\nFLOPs\\n\\nSize\\n\\nFPSV 100\\n\\nAPtest / APval\\n\\nAPtest 50\\n\\nAPtest 75\\n\\nYOLOv7-tiny-SiLU PPYOLOE-S [85]\\n\\n6.2M 7.9M\\n\\n13.8G 17.4G\\n\\n640 640\\n\\n286 208\\n\\n38.7% / 38.7% 56.7% 41.7% 43.1% / 42.7% 60.5% 46.6%\\n\\nYOLOv7 YOLOv5-N (r6.1) [23] YOLOv5-S (r6.1) [23] PPYOLOE-M [85] YOLOv5-N6 (r6.1) [23] YOLOv5-S6 (r6.1) [23] YOLOv5-M (r6.1) [23] YOLOv7-X YOLOR-CSP [81] YOLOX-S [21]\\n\\n36.9M 1.9M 7.2M 23.4M 3.2M 12.6M 21.2M 71.3M 52.9M 9.0M\\n\\n104.7G 4.5G 16.5G 49.9G 18.4G 67.2G 49.0G 189.9G 120.4G 26.8G\\n\\n640 640 640 640 1280 1280 640 640 640 640\\n\\n161 159 156 123 123 122 122 114 106 102\\n\\n51.4% / 51.2% 69.7% 55.9%\\n\\n/ 28.0% - / 37.4% 48.9% / 48.6% - / 36.0% - / 44.8% - / 45.4%\\n\\n- 66.5% - - -\\n\\n- 53.0% - - -\\n\\n53.1% / 52.9% 71.2% 57.8% 55.7% 51.1% / 50.8% - 40.5% / 40.5%\\n\\n69.6% -\\n\\nYOLOv5-L (r6.1) [23] YOLOv5-M6 (r6.1) [23] YOLOR-CSP-X [81] YOLOv7-W6 YOLOv5-X (r6.1) [23] YOLOX-M [21] PPYOLOE-L [85] YOLOR-P6 [81] YOLOX-L [21] YOLOR-W6 [81] YOLOv5-L6 (r6.1) [23]\\n\\n46.5M 35.7M 96.9M 70.4M 86.7M 25.3M 52.2M 37.2M 54.2M 79.8G 76.8M\\n\\n109.1G 200.0G 226.8G 360.0G 205.7G 73.8G 110.1G 325.6G 155.6G 453.2G 445.6G\\n\\n640 1280 640 1280 640 640 640 1280 640 1280 1280\\n\\n99 90 87 84 83 81 78 76 69 66 63\\n\\n/ 49.0% - / 51.3% 71.4% 57.9% 53.0% / 52.7% 54.9% / 54.6% 72.6% 60.1%\\n\\n-\\n\\n-\\n\\n/ 50.7% 47.2% / 46.9% 51.4% / 50.9% 53.9% / 53.5% 50.1% / 49.7% 55.2% / 54.8% 72.7% 60.5%\\n\\n- 68.9% 71.4% -\\n\\n- 55.6% 58.9% -\\n\\n/ 53.7%\\n\\n\\n\\n\\n\\nYOLOX-X [21] YOLOv7-E6 YOLOR-E6 [81] PPYOLOE-X [85] YOLOv7-D6 YOLOv5-X6 (r6.1) [23] YOLOv7-E6E YOLOR-D6 [81]\\n\\n99.1M 97.2M 115.8M 98.4M 154.7M 140.7M 151.7M 151.7M\\n\\n281.9G 515.2G 683.2G 206.6G 806.8G 839.2G 843.2G 935.6G\\n\\n640 1280 1280 640 1280 1280 1280 1280\\n\\n58 56 45 45 44 38 36 34\\n\\n51.5% / 51.1% 56.0% / 55.9% 73.5% 61.2% 61.1% 55.8% / 55.7% 52.2% / 51.9% 56.5% 56.6% / 56.3% 74.0% 61.8%\\n\\n\\n\\n\\n\\n73.4% 69.9%\\n\\n/ 55.0%\\n\\n\\n\\n\\n\\n56.8% / 56.8% 74.4% 62.1% 74.1% 61.9% 56.5% / 56.1%\\n\\nF-RCNN-R101-FPN+ [5] Deformable DETR [100] Swin-B (C-M-RCNN) [52] DETR DC5-R101 [5] EfﬁcientDet-D7x [74] Dual-Swin-T (C-M-RCNN) [47] ViT-Adapter-B [7] Dual-Swin-B (HTC) [47] Dual-Swin-L (HTC) [47]\\n\\n60.0M 40.0M 145.0M 60.0M 77.0M 113.8M 122.0M 235.0M 453.0M\\n\\n246.0G 173.0G 982.0G 253.0G 410.0G 836.0G 997.0G - -\\n\\n1333 - 1333 1333 1536 1333 - 1600 1600\\n\\n20 19 11.6 10 6.5 6.5 4.4 2.5 1.5\\n\\n/ 44.0% - / 46.2% - / 51.9% - / 44.9% 55.1% / 54.4% - / 53.6% - / 50.8% 58.7% / 58.4% 59.4% / 59.1%\\n\\n- - - 72.4% - - - -\\n\\n- - - 58.4% - - - -\\n\\nModel\\n\\n#Param.\\n\\nFLOPs\\n\\nSize\\n\\nFPSA100\\n\\nAPtest / APval\\n\\nAPtest 50\\n\\nAPtest 75\\n\\nDN-Deformable-DETR [41] ConvNeXt-B (C-M-RCNN) [53] Swin-B (C-M-RCNN) [52] DINO-5scale (R50) [89] ConvNeXt-L (C-M-RCNN) [53] Swin-L (C-M-RCNN) [52] ConvNeXt-XL (C-M-RCNN) [53]\\n\\n48.0M - - 47.0M - - -\\n\\n265.0G 964.0G 982.0G 860.0G 1354.0G 1382.0G 1898.0G\\n\\n1333 1280 1280 1333 1280 1280 1280\\n\\n23.0 11.5 10.7 10.0 10.0 9.2 8.6\\n\\n/ 48.6% - / 54.0% - / 53.0% - / 51.0% - / 54.8% - / 53.9% - / 55.2%\\n\\n73.1% 71.8% - 73.8% 72.4% 74.2%\\n\\n58.8% 57.5% - 59.8% 58.8% 59.9%\\n\\n8. More comparison\\n\\nYOLOv7 surpasses all known object detectors in both speed and accuracy in the range from 5 FPS to 160 FPS and has the highest accuracy 56.8% AP test-dev / 56.8% AP min-val among all known real-time object detectors with 30 FPS or higher on GPU V100. YOLOv7-E6 object detector (56 FPS V100, 55.9% AP) outperforms both transformer- based detector SWIN-L Cascade-Mask R-CNN (9.2 FPS A100, 53.9% AP) by 509% in speed and 2% in accuracy,\\n\\nand convolutional-based detector ConvNeXt-XL Cascade- Mask R-CNN (8.6 FPS A100, 55.2% AP) by 551% in speed and 0.7% AP in accuracy, as well as YOLOv7 outperforms: YOLOR, YOLOX, Scaled-YOLOv4, YOLOv5, DETR, De- formable DETR, DINO-5scale-R50, ViT-Adapter-B and many other object detectors in speed and accuracy. More over, we train YOLOv7 only on MS COCO dataset from scratch without using any other datasets or pre-trained weights.\\n\\n10\\n\\nFigure 9: Comparison with other object detectors.\\n\\nFigure 10: Comparison with other real-time object detectors.\\n\\nTable 10: Comparison of different setting.\\n\\nModel\\n\\nPresicion\\n\\nIoU threshold\\n\\nAPval\\n\\nYOLOv7-X YOLOv7-X YOLOv7-X YOLOv7-X improvement\\n\\nFP16 (default) FP32 FP16 FP32 -\\n\\n0.65 (default) 0.65 0.70 0.70 -\\n\\n52.9% 53.0% 53.0% 53.1% +0.2%\\n\\nSimilar to meituan/YOLOv6 and PPYOLOE, our model could get higher AP when set higher IoU threshold.\\n\\nThe maximum accuracy of the YOLOv7-E6E (56.8% AP) real-time model is +13.7% AP higher than the cur- rent most accurate meituan/YOLOv6-s model (43.1% AP) on COCO dataset. Our YOLOv7-tiny (35.2% AP, 0.4 ms) model is +25% faster and +0.2% AP higher than meituan/YOLOv6-n (35.0% AP, 0.5 ms) under identical conditions on COCO dataset and V100 GPU with batch=32.\\n\\nFigure 11: Comparison with other real-time object detectors.\\n\\n11\\n\\nReferences\\n\\n[1] anonymous. Designing network design strategies. anony-\\n\\nmous submission, 2022. 3\\n\\n[2] Irwan Bello, William Fedus, Xianzhi Du, Ekin Dogus Cubuk, Aravind Srinivas, Tsung-Yi Lin, Jonathon Shlens, and Barret Zoph. Revisiting ResNets: Improved training and scaling strategies. Advances in Neural Information Pro- cessing Systems (NeurIPS), 34, 2021. 2 [3] Alexey Bochkovskiy, Chien-Yao Wang,\\n\\nand Hong- Yuan Mark Liao. YOLOv4: Optimal speed and accuracy of object detection. arXiv preprint arXiv:2004.10934, 2020. 2, 6, 7\\n\\n[4] Yue Cao, Thomas Andrew Geddes, Jean Yee Hwa Yang, and Pengyi Yang. Ensemble deep learning in bioinformat- ics. Nature Machine Intelligence, 2(9):500–508, 2020. 2 [5] Nicolas Carion, Francisco Massa, Gabriel Synnaeve, Nico- las Usunier, Alexander Kirillov, and Sergey Zagoruyko. In Pro- End-to-end object detection with transformers. ceedings of the European Conference on Computer Vision (ECCV), pages 213–229, 2020. 10\\n\\n[6] Kean Chen, Weiyao Lin, Jianguo Li, John See, Ji Wang, and Junni Zou. AP-loss for accurate one-stage object detection. IEEE Transactions on Pattern Analysis and Machine Intel- ligence (TPAMI), 43(11):3782–3798, 2020. 2\\n\\n[7] Zhe Chen, Yuchen Duan, Wenhai Wang, Junjun He, Tong Lu, Jifeng Dai, and Yu Qiao. Vision transformer adapter for dense predictions. arXiv preprint arXiv:2205.08534, 2022. 10\\n\\n[8] Jiwoong Choi, Dayoung Chun, Hyun Kim, and Hyuk-Jae Lee. Gaussian YOLOv3: An accurate and fast object detec- tor using localization uncertainty for autonomous driving. In Proceedings of the IEEE/CVF International Conference on Computer Vision (ICCV), pages 502–511, 2019. 5 [9] Xiyang Dai, Yinpeng Chen, Bin Xiao, Dongdong Chen, Mengchen Liu, Lu Yuan, and Lei Zhang. Dynamic head: In Pro- Unifying object detection heads with attentions. ceedings of the IEEE/CVF Conference on Computer Vision and Pattern Recognition (CVPR), pages 7373–7382, 2021. 2\\n\\n[10] Xiaohan Ding, Honghao Chen, Xiangyu Zhang, Kaiqi Huang, Re- parameterizing your optimizers rather than architectures. arXiv preprint arXiv:2205.15242, 2022. 2\\n\\nJungong Han,\\n\\nand Guiguang Ding.\\n\\n[11] Xiaohan Ding, Yuchen Guo, Guiguang Ding, and Jungong Han. ACNet: Strengthening the kernel skeletons for pow- erful CNN via asymmetric convolution blocks. In Proceed- ings of the IEEE/CVF International Conference on Com- puter Vision (ICCV), pages 1911–1920, 2019. 2\\n\\n[12] Xiaohan Ding, Xiangyu Zhang,\\n\\nand Guiguang Ding. Diverse branch block: Building a con- In Proceedings of the volution as an inception-like unit. IEEE/CVF Conference on Computer Vision and Pattern Recognition (CVPR), pages 10886–10895, 2021. 2\\n\\nJungong Han,\\n\\n[13] Xiaohan Ding, Xiangyu Zhang, Ningning Ma, Jungong Han, Guiguang Ding, and Jian Sun. RepVGG: Making In Proceedings of the VGG-style convnets great again.\\n\\n12\\n\\nIEEE/CVF Conference on Computer Vision and Pattern Recognition (CVPR), pages 13733–13742, 2021. 2, 4 [14] Xiaohan Ding, Xiangyu Zhang, Yizhuang Zhou, Jungong Han, Guiguang Ding, and Jian Sun. Scaling up your ker- nels to 31x31: Revisiting large kernel design in CNNs. In Proceedings of the IEEE/CVF Conference on Computer Vi- sion and Pattern Recognition (CVPR), 2022. 2\\n\\n[15] Piotr Doll´ar, Mannat Singh, and Ross Girshick. Fast and accurate model scaling. In Proceedings of the IEEE/CVF Conference on Computer Vision and Pattern Recognition (CVPR), pages 924–932, 2021. 2, 3\\n\\n[16] Xianzhi Du, Barret Zoph, Wei-Chih Hung, and Tsung-Yi Lin. Simple training strategies and model scaling for object detection. arXiv preprint arXiv:2107.00057, 2021. 2 [17] Chengjian Feng, Yujie Zhong, Yu Gao, Matthew R Scott, and Weilin Huang. TOOD: Task-aligned one-stage object detection. In Proceedings of the IEEE/CVF International Conference on Computer Vision (ICCV), pages 3490–3499, 2021. 2, 5\\n\\n[18] Di Feng, Christian Haase-Sch¨utz, Lars Rosenbaum, Heinz Hertlein, Claudius Glaeser, Fabian Timm, Werner Wies- beck, and Klaus Dietmayer. Deep multi-modal object de- tection and semantic segmentation for autonomous driv- IEEE Transac- ing: Datasets, methods, and challenges. tions on Intelligent Transportation Systems, 22(3):1341– 1360, 2020. 1\\n\\n[19] Timur Garipov, Pavel\\n\\nIzmailov, Dmitrii Podoprikhin, Loss sur- Dmitry P Vetrov, and Andrew G Wilson. faces, mode connectivity, and fast ensembling of DNNs. Advances Information Processing Systems in Neural (NeurIPS), 31, 2018. 2\\n\\n[20] Zheng Ge, Songtao Liu, Zeming Li, Osamu Yoshie, and Jian Sun. OTA: Optimal transport assignment for object detection. In Proceedings of the IEEE/CVF Conference on Computer Vision and Pattern Recognition (CVPR), pages 303–312, 2021. 2, 5\\n\\n[21] Zheng Ge, Songtao Liu, Feng Wang, Zeming Li, and Jian Sun. YOLOX: Exceeding YOLO series in 2021. arXiv preprint arXiv:2107.08430, 2021. 1, 2, 7, 10\\n\\n[22] Golnaz Ghiasi, Tsung-Yi Lin, and Quoc V Le. NAS-FPN: Learning scalable feature pyramid architecture for object detection. In Proceedings of the IEEE/CVF Conference on Computer Vision and Pattern Recognition (CVPR), pages 7036–7045, 2019. 2\\n\\n[23] Jocher Glenn. YOLOv5 release v6.1. https://github.com/\\n\\nultralytics/yolov5/releases/tag/v6.1, 2022. 2, 7, 10\\n\\n[24] Shuxuan Guo, Jose M Alvarez, and Mathieu Salzmann. Ex- pandNets: Linear over-parameterization to train compact convolutional networks. Advances in Neural Information Processing Systems (NeurIPS), 33:1298–1310, 2020. 2 [25] Kai Han, Yunhe Wang, Qi Tian, Jianyuan Guo, Chunjing Xu, and Chang Xu. GhostNet: More features from cheap operations. In Proceedings of the IEEE/CVF Conference on Computer Vision and Pattern Recognition (CVPR), pages 1580–1589, 2020. 1\\n\\n[26] Kaiming He, Xiangyu Zhang, Shaoqing Ren, and Jian Sun. Deep residual learning for image recognition. In Proceed-\\n\\nings of the IEEE/CVF Conference on Computer Vision and Pattern Recognition (CVPR), pages 770–778, 2016. 1, 4, 5 [27] Andrew Howard, Mark Sandler, Grace Chu, Liang-Chieh Chen, Bo Chen, Mingxing Tan, Weijun Wang, Yukun Zhu, Ruoming Pang, Vijay Vasudevan, et al. Searching for Mo- bileNetV3. In Proceedings of the IEEE/CVF Conference on Computer Vision and Pattern Recognition (CVPR), pages 1314–1324, 2019. 1\\n\\n[28] Andrew G Howard, Menglong Zhu, Bo Chen, Dmitry Kalenichenko, Weijun Wang, Tobias Weyand, Marco An- dreetto, and Hartwig Adam. MobileNets: Efﬁcient con- volutional neural networks for mobile vision applications. arXiv preprint arXiv:1704.04861, 2017. 1\\n\\n[29] Mu Hu, Junyi Feng, Jiashen Hua, Baisheng Lai, Jian- qiang Huang, Xiaojin Gong, and Xiansheng Hua. On- line convolutional re-parameterization. In Proceedings of the IEEE/CVF Conference on Computer Vision and Pattern Recognition (CVPR), 2022. 2\\n\\n[30] Miao Hu, Yali Li, Lu Fang, and Shengjin Wang. A2-FPN: Attention aggregation based feature pyramid network for In Proceedings of the IEEE/CVF instance segmentation. Conference on Computer Vision and Pattern Recognition (CVPR), pages 15343–15352, 2021. 2\\n\\n[31] Gao Huang, Yixuan Li, Geoff Pleiss, Zhuang Liu, John E Hopcroft, and Kilian Q Weinberger. Snapshot ensembles: Train 1, get m for free. International Conference on Learn- ing Representations (ICLR), 2017. 2\\n\\n[32] Gao Huang, Zhuang Liu, Laurens Van Der Maaten, and Kil- ian Q Weinberger. Densely connected convolutional net- In Proceedings of the IEEE/CVF Conference on works. Computer Vision and Pattern Recognition (CVPR), pages 4700–4708, 2017. 2, 4, 5\\n\\n[33] Pavel\\n\\nIzmailov, Dmitrii Podoprikhin, Timur Garipov, Dmitry Vetrov, and Andrew Gordon Wilson. Averaging weights leads to wider optima and better generalization. In Conference on Uncertainty in Artiﬁcial Intelligence (UAI), 2018. 2\\n\\n[34] Paul F Jaeger, Simon AA Kohl, Sebastian Bickel- haupt, Fabian Isensee, Tristan Anselm Kuder, Heinz-Peter Schlemmer, and Klaus H Maier-Hein. Retina U-Net: Em- barrassingly simple exploitation of segmentation supervi- sion for medical object detection. In Machine Learning for Health Workshop, pages 171–183, 2020. 1\\n\\n[35] Hakan Karaoguz and Patric Jensfelt. Object detection ap- In IEEE International proach for robot grasp detection. Conference on Robotics and Automation (ICRA), pages 4953–4959, 2019. 1\\n\\n[36] Kang Kim and Hee Seok Lee. Probabilistic anchor as- signment with iou prediction for object detection. In Pro- ceedings of the European conference on computer vision (ECCV), pages 355–371, 2020. 5\\n\\n[37] Alexander Kirillov, Ross Girshick, Kaiming He, and Piotr In Proceed- Doll´ar. Panoptic feature pyramid networks. ings of the IEEE/CVF Conference on Computer Vision and Pattern Recognition (CVPR), pages 6399–6408, 2019. 2\\n\\n[38] Chen-Yu Lee, Saining Xie, Patrick Gallagher, Zhengyou Zhang, and Zhuowen Tu. Deeply-supervised nets. In Arti- ﬁcial Intelligence and Statistics, pages 562–570, 2015. 5\\n\\n13\\n\\n[39] Youngwan Lee, Joong-won Hwang, Sangrok Lee, Yuseok Bae, and Jongyoul Park. An energy and GPU-computation efﬁcient backbone network for real-time object detection. In Proceedings of the IEEE/CVF Conference on Com- puter Vision and Pattern Recognition Workshops (CVPRW), pages 0–0, 2019. 2, 3\\n\\n[40] Buyu Li, Wanli Ouyang, Lu Sheng, Xingyu Zeng, and Xiaogang Wang. GS3D: An efﬁcient 3d object detection framework for autonomous driving. In Proceedings of the IEEE/CVF Conference on Computer Vision and Pattern Recognition (CVPR), pages 1019–1028, 2019. 1\\n\\n[41] Feng Li, Hao Zhang, Shilong Liu, Jian Guo, Lionel M Ni, and Lei Zhang. DN-DETR: Accelerate detr training In Proceedings of the by introducing query denoising. IEEE/CVF Conference on Computer Vision and Pattern Recognition (CVPR), pages 13619–13627, 2022. 10 [42] Shuai Li, Chenhang He, Ruihuang Li, and Lei Zhang. A dual weighting label assignment scheme for object detec- tion. In Proceedings of the IEEE/CVF Conference on Com- puter Vision and Pattern Recognition (CVPR), pages 9387– 9396, 2022. 2, 5\\n\\n[43] Xiang Li, Wenhai Wang, Xiaolin Hu, Jun Li, Jinhui Tang, and Jian Yang. Generalized focal loss v2: Learning reliable localization quality estimation for dense object detection. In Proceedings of the IEEE/CVF Conference on Computer Vi- sion and Pattern Recognition (CVPR), pages 11632–11641, 2021. 5\\n\\n[44] Xiang Li, Wenhai Wang, Lijun Wu, Shuo Chen, Xiaolin Hu, Jun Li, Jinhui Tang, and Jian Yang. Generalized focal loss: Learning qualiﬁed and distributed bounding boxes for dense object detection. Advances in Neural Information Processing Systems (NeurIPS), 33:21002–21012, 2020. 5\\n\\n[45] Yanghao Li, Hanzi Mao, Ross Girshick, and Kaiming He. Exploring plain vision transformer backbones for object de- tection. arXiv preprint arXiv:2203.16527, 2022. 2\\n\\n[46] Zhuoling Li, Minghui Dong, Shiping Wen, Xiang Hu, Pan Zhou, and Zhigang Zeng. CLU-CNNs: Object detection for medical images. Neurocomputing, 350:53–59, 2019. 1 [47] Tingting Liang, Xiaojie Chu, Yudong Liu, Yongtao Wang, Zhi Tang, Wei Chu, Jingdong Chen, and Haibin Ling. CB- NetV2: A composite backbone network architecture for ob- ject detection. arXiv preprint arXiv:2107.00420, 2021. 5, 10\\n\\n[48] Ji Lin, Wei-Ming Chen, Han Cai, Chuang Gan, and Song Han. Memory-efﬁcient patch-based inference for tiny deep learning. Advances in Neural Information Processing Sys- tems (NeurIPS), 34:2346–2358, 2021. 1\\n\\n[49] Ji Lin, Wei-Ming Chen, Yujun Lin, Chuang Gan, Song Han, et al. MCUNet: Tiny deep learning on IoT de- vices. Advances in Neural Information Processing Systems (NeurIPS), 33:11711–11722, 2020. 1\\n\\n[50] Yuxuan Liu, Lujia Wang, and Ming Liu. YOLOStereo3D: A step back to 2D for efﬁcient stereo 3D detection. In IEEE International Conference on Robotics and Automa- tion (ICRA), pages 13018–13024, 2021. 5\\n\\n[51] Ze Liu, Han Hu, Yutong Lin, Zhuliang Yao, Zhenda Xie, Yixuan Wei, Jia Ning, Yue Cao, Zheng Zhang, Li Dong,\\n\\net al. Swin transformer v2: Scaling up capacity and res- In Proceedings of the IEEE/CVF Conference on olution. Computer Vision and Pattern Recognition (CVPR), 2022. 2 [52] Ze Liu, Yutong Lin, Yue Cao, Han Hu, Yixuan Wei, Zheng Zhang, Stephen Lin, and Baining Guo. Swin transformer: Hierarchical vision transformer using shifted windows. In Proceedings of the IEEE/CVF International Conference on Computer Vision (ICCV), pages 10012–10022, 2021. 10\\n\\n[53] Zhuang Liu, Hanzi Mao, Chao-Yuan Wu, Christoph Feicht- enhofer, Trevor Darrell, and Saining Xie. A ConvNet for the 2020s. In Proceedings of the IEEE/CVF Conference on Computer Vision and Pattern Recognition (CVPR), pages 11976–11986, 2022. 10\\n\\n[54] Rangi Lyu. NanoDet-Plus. https://github.com/RangiLyu/\\n\\nnanodet/releases/tag/v1.0.0-alpha-1, 2021. 1, 2\\n\\n[55] Ningning Ma, Xiangyu Zhang, Hai-Tao Zheng, and Jian Sun. ShufﬂeNet V2: Practical guidelines for efﬁcient CNN architecture design. In Proceedings of the European Con- ference on Computer Vision (ECCV), pages 116–131, 2018. 1, 3\\n\\n[56] Kemal Oksuz, Baris Can Cam, Emre Akbas, and Sinan Kalkan. A ranking-based, balanced loss function unifying classiﬁcation and localisation in object detection. Advances in Neural Information Processing Systems (NeurIPS), 33:15534–15545, 2020. 2\\n\\n[57] Kemal Oksuz, Baris Can Cam, Emre Akbas, and Sinan Kalkan. Rank & sort loss for object detection and in- stance segmentation. In Proceedings of the IEEE/CVF In- ternational Conference on Computer Vision (ICCV), pages 3009–3018, 2021. 2\\n\\n[58] Shuvo Kumar Paul, Muhammed Tawﬁq Chowdhury, Mircea Nicolescu, Monica Nicolescu, and David Feil- Seifer. Object detection and pose estimation from rgb and depth data for real-time, adaptive robotic grasping. In Ad- vances in Computer Vision and Computational Biology, pages 121–142. 2021. 1\\n\\n[59] Siyuan Qiao, Liang-Chieh Chen, and Alan Yuille. De- tectoRS: Detecting objects with recursive feature pyramid and switchable atrous convolution. In Proceedings of the IEEE/CVF Conference on Computer Vision and Pattern Recognition (CVPR), pages 10213–10224, 2021. 2\\n\\n[60] Ilija Radosavovic, Raj Prateek Kosaraju, Ross Girshick, Kaiming He, and Piotr Doll´ar. Designing network design In Proceedings of the IEEE/CVF Conference on spaces. Computer Vision and Pattern Recognition (CVPR), pages 10428–10436, 2020. 2\\n\\n[61] Joseph Redmon, Santosh Divvala, Ross Girshick, and Ali Farhadi. You only look once: Uniﬁed, real-time object de- In Proceedings of the IEEE/CVF Conference on tection. Computer Vision and Pattern Recognition (CVPR), pages 779–788, 2016. 2, 5\\n\\n[62] Joseph Redmon and Ali Farhadi. YOLO9000: better, faster, stronger. In Proceedings of the IEEE/CVF Conference on Computer Vision and Pattern Recognition (CVPR), pages 7263–7271, 2017. 2\\n\\n[63] Joseph Redmon and Ali Farhadi. YOLOv3: An incremental improvement. arXiv preprint arXiv:1804.02767, 2018. 1, 2\\n\\n14\\n\\n[64] Hamid Rezatoﬁghi, Nathan Tsoi, JunYoung Gwak, Amir Sadeghian, Ian Reid, and Silvio Savarese. Generalized in- tersection over union: A metric and a loss for bounding box regression. In Proceedings of the IEEE/CVF Confer- ence on Computer Vision and Pattern Recognition (CVPR), pages 658–666, 2019. 2\\n\\n[65] Byungseok Roh, JaeWoong Shin, Wuhyun Shin, and Saehoon Kim. Sparse DETR: Efﬁcient end-to-end ob- arXiv preprint ject detection with learnable sparsity. arXiv:2111.14330, 2021. 5\\n\\n[66] Mark Sandler, Andrew Howard, Menglong Zhu, Andrey Zhmoginov, and Liang-Chieh Chen. MobileNetV2: In- verted residuals and linear bottlenecks. In Proceedings of the IEEE/CVF Conference on Computer Vision and Pattern Recognition (CVPR), pages 4510–4520, 2018. 1\\n\\n[67] Zhiqiang Shen, Zhuang Liu, Jianguo Li, Yu-Gang Jiang, Yurong Chen, and Xiangyang Xue. Object detection IEEE Transactions from scratch with deep supervision. on Pattern Analysis and Machine Intelligence (TPAMI), 42(2):398–412, 2019. 5\\n\\n[68] Karen Simonyan and Andrew Zisserman. Very deep convo- lutional networks for large-scale image recognition. arXiv preprint arXiv:1409.1556, 2014. 4\\n\\n[69] Peize Sun, Rufeng Zhang, Yi Jiang, Tao Kong, Chenfeng Xu, Wei Zhan, Masayoshi Tomizuka, Lei Li, Zehuan Yuan, Changhu Wang, et al. Sparse R-CNN: End-to-end ob- ject detection with learnable proposals. In Proceedings of the IEEE/CVF Conference on Computer Vision and Pattern Recognition (CVPR), pages 14454–14463, 2021. 2\\n\\n[70] Christian Szegedy, Wei Liu, Yangqing Jia, Pierre Sermanet, Scott Reed, Dragomir Anguelov, Dumitru Erhan, Vincent Vanhoucke, and Andrew Rabinovich. Going deeper with In Proceedings of the IEEE/CVF Confer- convolutions. ence on Computer Vision and Pattern Recognition (CVPR), pages 1–9, 2015. 5\\n\\n[71] Christian Szegedy, Vincent Vanhoucke, Sergey Ioffe, Jon Shlens, and Zbigniew Wojna. Rethinking the inception In Proceedings of the architecture for computer vision. IEEE/CVF Conference on Computer Vision and Pattern Recognition (CVPR), pages 2818–2826, 2016. 2\\n\\n[72] Mingxing Tan and Quoc Le. EfﬁcientNet: Rethinking model scaling for convolutional neural networks. In Inter- national Conference on Machine Learning (ICML), pages 6105–6114, 2019. 2, 3\\n\\n[73] Mingxing Tan and Quoc Le. EfﬁcientNetv2: Smaller mod- els and faster training. In International Conference on Ma- chine Learning (ICML), pages 10096–10106, 2021. 2 [74] Mingxing Tan, Ruoming Pang, and Quoc V Le. Efﬁcient- Det: Scalable and efﬁcient object detection. In Proceedings of the IEEE/CVF Conference on Computer Vision and Pat- tern Recognition (CVPR), pages 10781–10790, 2020. 2, 10 [75] Antti Tarvainen and Harri Valpola. Mean teachers are better role models: Weight-averaged consistency targets improve semi-supervised deep learning results. Advances in Neural Information Processing Systems (NeurIPS), 30, 2017. 2, 6 [76] Zhi Tian, Chunhua Shen, Hao Chen, and Tong He. FCOS: Fully convolutional one-stage object detection. In Proceed-\\n\\nings of the IEEE/CVF International Conference on Com- puter Vision (ICCV), pages 9627–9636, 2019. 2\\n\\n[77] Zhi Tian, Chunhua Shen, Hao Chen, and Tong He. FCOS: IEEE A simple and strong anchor-free object detector. Transactions on Pattern Analysis and Machine Intelligence (TPAMI), 44(4):1922–1933, 2022. 2\\n\\n[78] Pavan Kumar Anasosalu Vasu,\\n\\nJeff Zhu, Oncel Tuzel, and Anurag Ranjan. An im- proved one millisecond mobile backbone. arXiv preprint arXiv:2206.04040, 2022. 2\\n\\nJames Gabriel,\\n\\n[79] Chien-Yao Wang, Alexey Bochkovskiy,\\n\\nand Hong- Yuan Mark Liao. Scaled-YOLOv4: Scaling cross stage partial network. In Proceedings of the IEEE/CVF Confer- ence on Computer Vision and Pattern Recognition (CVPR), pages 13029–13038, 2021. 2, 3, 6, 7\\n\\n[80] Chien-Yao Wang, Hong-Yuan Mark Liao, Yueh-Hua Wu, Ping-Yang Chen, Jun-Wei Hsieh, and I-Hau Yeh. CSP- Net: A new backbone that can enhance learning capabil- ity of CNN. In Proceedings of the IEEE/CVF Conference on Computer Vision and Pattern Recognition Workshops (CVPRW), pages 390–391, 2020. 1\\n\\n[81] Chien-Yao Wang, I-Hau Yeh, and Hong-Yuan Mark Liao. You only learn one representation: Uniﬁed network for multiple tasks. arXiv preprint arXiv:2105.04206, 2021. 1, 2, 6, 7, 10\\n\\n[82] Jianfeng Wang, Lin Song, Zeming Li, Hongbin Sun, Jian Sun, and Nanning Zheng. End-to-end object detection In Proceedings of the with fully convolutional network. IEEE/CVF Conference on Computer Vision and Pattern Recognition (CVPR), pages 15849–15858, 2021. 2, 5 [83] Bichen Wu, Chaojian Li, Hang Zhang, Xiaoliang Dai, Peizhao Zhang, Matthew Yu, Jialiang Wang, Yingyan Lin, and Peter Vajda. FBNetv5: Neural architecture search for multiple tasks in one run. arXiv preprint arXiv:2111.10007, 2021. 1\\n\\n[84] Yunyang Xiong, Hanxiao Liu, Suyog Gupta, Berkin Akin, Gabriel Bender, Yongzhe Wang, Pieter-Jan Kindermans, Mingxing Tan, Vikas Singh, and Bo Chen. MobileDets: Searching for object detection architectures for mobile ac- celerators. In Proceedings of the IEEE/CVF Conference on Computer Vision and Pattern Recognition (CVPR), pages 3825–3834, 2021. 1\\n\\n[85] Shangliang Xu, Xinxin Wang, Wenyu Lv, Qinyao Chang, Cheng Cui, Kaipeng Deng, Guanzhong Wang, Qingqing Dang, Shengyu Wei, Yuning Du, et al. PP- YOLOE: An evolved version of YOLO. arXiv preprint arXiv:2203.16250, 2022. 2, 7, 8, 10\\n\\n[86] Zetong Yang, Yin Zhou, Zhifeng Chen, and Jiquan Ngiam. 3D-MAN: 3D multi-frame attention network for object de- In Proceedings of the IEEE/CVF Conference on tection. Computer Vision and Pattern Recognition (CVPR), pages 1863–1872, 2021. 5\\n\\n[87] Fisher Yu, Dequan Wang, Evan Shelhamer, and Trevor In Proceedings of the Darrell. Deep layer aggregation. IEEE/CVF Conference on Computer Vision and Pattern Recognition (CVPR), pages 2403–2412, 2018. 1\\n\\n[88] Guanghua Yu, Qinyao Chang, Wenyu Lv, Chang Xu, Cheng Cui, Wei Ji, Qingqing Dang, Kaipeng Deng, Guanzhong\\n\\n15\\n\\nWang, Yuning Du, et al. time object detector on mobile devices. arXiv:2111.00902, 2021. 1\\n\\nPP-PicoDet: A better real- arXiv preprint\\n\\n[89] Hao Zhang, Feng Li, Shilong Liu, Lei Zhang, Hang Su, Jun Zhu, Lionel M Ni, and Heung-Yeung Shum. DINO: DETR with improved denoising anchor boxes for end-to-end ob- ject detection. arXiv preprint arXiv:2203.03605, 2022. 10 [90] Haoyang Zhang, Ying Wang, Feras Dayoub, and Niko Sun- derhauf. VarifocalNet: An IoU-aware dense object detector. In Proceedings of the IEEE/CVF Conference on Computer Vision and Pattern Recognition (CVPR), pages 8514–8523, 2021. 5\\n\\n[91] Shifeng Zhang, Cheng Chi, Yongqiang Yao, Zhen Lei, and Stan Z Li. Bridging the gap between anchor-based and anchor-free detection via adaptive training sample selec- tion. In Proceedings of the IEEE/CVF Conference on Com- puter Vision and Pattern Recognition (CVPR), pages 9759– 9768, 2020. 5\\n\\n[92] Xiangyu Zhang, Xinyu Zhou, Mengxiao Lin, and Jian Sun. ShufﬂeNet: An extremely efﬁcient convolutional neu- In Proceedings of the ral network for mobile devices. IEEE/CVF Conference on Computer Vision and Pattern Recognition (CVPR), pages 6848–6856, 2018. 1\\n\\n[93] Yifu Zhang, Peize Sun, Yi Jiang, Dongdong Yu, Zehuan Yuan, Ping Luo, Wenyu Liu, and Xinggang Wang. BYTE- Track: Multi-object tracking by associating every detection box. arXiv preprint arXiv:2110.06864, 2021. 1\\n\\n[94] Yifu Zhang, Chunyu Wang, Xinggang Wang, Wenjun Zeng, and Wenyu Liu. FAIRMOT: On the fairness of detec- tion and re-identiﬁcation in multiple object tracking. Inter- national Journal of Computer Vision, 129(11):3069–3087, 2021. 1\\n\\n[95] Zhaohui Zheng, Ping Wang, Wei Liu, Jinze Li, Rongguang Ye, and Dongwei Ren. Distance-IoU loss: Faster and bet- ter learning for bounding box regression. In Proceedings of the AAAI Conference on Artiﬁcial Intelligence (AAAI), volume 34, pages 12993–13000, 2020. 2\\n\\n[96] Dingfu Zhou, Jin Fang, Xibin Song, Chenye Guan, Junbo Yin, Yuchao Dai, and Ruigang Yang. IoU loss for 2D/3D object detection. In International Conference on 3D Vision (3DV), pages 85–94, 2019. 2\\n\\n[97] Xingyi Zhou, Dequan Wang, and Philipp Kr¨ahenb¨uhl. Ob- jects as points. arXiv preprint arXiv:1904.07850, 2019. 1, 2\\n\\n[98] Zongwei Zhou, Md Mahfuzur Rahman Siddiquee, Nima Tajbakhsh, and Jianming Liang. UNet++: A nested U- In Net architecture for medical Deep Learning in Medical Image Analysis and Multimodal Learning for Clinical Decision Support, 2018. 5\\n\\nimage segmentation.\\n\\n[99] Benjin Zhu, Jianfeng Wang, Zhengkai Jiang, Fuhang Zong, Songtao Liu, Zeming Li, and Jian Sun. AutoAssign: Differ- entiable label assignment for dense object detection. arXiv preprint arXiv:2007.03496, 2020. 2, 5\\n\\n[100] Xizhou Zhu, Weijie Su, Lewei Lu, Bin Li, Xiaogang Wang, and Jifeng Dai. Deformable DETR: Deformable trans- formers for end-to-end object detection. In Proceedings of the International Conference on Learning Representations (ICLR), 2021. 10')]"
            ]
          },
          "metadata": {},
          "execution_count": 9
        }
      ]
    },
    {
      "cell_type": "code",
      "source": [
        "from langchain.text_splitter import RecursiveCharacterTextSplitter\n",
        "\n",
        "text_splitter=RecursiveCharacterTextSplitter(chunk_size=1000,chunk_overlap=20)\n",
        "docs=text_splitter.split_documents(data)"
      ],
      "metadata": {
        "id": "Z_F4D7mD-ePw"
      },
      "execution_count": 12,
      "outputs": []
    },
    {
      "cell_type": "code",
      "source": [
        "len(docs)"
      ],
      "metadata": {
        "colab": {
          "base_uri": "https://localhost:8080/"
        },
        "id": "P4m7dZVA-x3V",
        "outputId": "694ed115-d1ac-4b8c-c933-feaad9416397"
      },
      "execution_count": 13,
      "outputs": [
        {
          "output_type": "execute_result",
          "data": {
            "text/plain": [
              "90"
            ]
          },
          "metadata": {},
          "execution_count": 13
        }
      ]
    },
    {
      "cell_type": "markdown",
      "source": [
        "# Embedding Convertion"
      ],
      "metadata": {
        "id": "S0Qc21NE-8Mj"
      }
    },
    {
      "cell_type": "code",
      "source": [
        "from langchain_community.embeddings import HuggingFaceEmbeddings"
      ],
      "metadata": {
        "id": "mHVFEE50_Iiq"
      },
      "execution_count": 15,
      "outputs": []
    },
    {
      "cell_type": "code",
      "source": [
        "model_name = \"sentence-transformers/all-mpnet-base-v2\"\n",
        "model_kwargs = {'device': 'cpu'}\n",
        "encode_kwargs = {'normalize_embeddings': False}\n",
        "hf = HuggingFaceEmbeddings(\n",
        "    model_name=model_name,\n",
        "    model_kwargs=model_kwargs,\n",
        "    encode_kwargs=encode_kwargs\n",
        ")"
      ],
      "metadata": {
        "id": "qCZZ5snO-2J5"
      },
      "execution_count": 17,
      "outputs": []
    },
    {
      "cell_type": "markdown",
      "source": [
        "# Vector Database Initialization"
      ],
      "metadata": {
        "id": "5TaJ_sy2_Uwv"
      }
    },
    {
      "cell_type": "code",
      "source": [
        "import weaviate\n",
        "from langchain.vectorstores import Weaviate\n",
        "\n",
        "# Connect to weaviate Cluster\n",
        "auth_config=weaviate.auth.AuthApiKey(api_key=WEAVIATE_API_KEY)\n",
        "WEAVIATE_URL=WEAVIATE_CLUSTER"
      ],
      "metadata": {
        "id": "Xu1qHr9R_FsL"
      },
      "execution_count": 18,
      "outputs": []
    },
    {
      "cell_type": "code",
      "source": [
        "client=weaviate.Client(\n",
        "    url=WEAVIATE_URL,\n",
        "    additional_headers={'GROQ_API_KEY':groq_api_key},\n",
        "      auth_client_secret=auth_config,\n",
        "      startup_period=10\n",
        ")"
      ],
      "metadata": {
        "colab": {
          "base_uri": "https://localhost:8080/"
        },
        "collapsed": true,
        "id": "mj3fFhr2_xiK",
        "outputId": "0f4f31ac-6712-4a32-c88b-f2e1d89a638b"
      },
      "execution_count": 23,
      "outputs": [
        {
          "output_type": "stream",
          "name": "stderr",
          "text": [
            "<ipython-input-23-f6c81114e6dd>:1: DeprecationWarning: \n",
            "Python client v3 `weaviate.Client(...)` connections and methods are deprecated and will\n",
            "            be removed by 2024-11-30.\n",
            "\n",
            "            Upgrade your code to use Python client v4 `weaviate.WeaviateClient` connections and methods.\n",
            "                - For Python Client v4 usage, see: https://weaviate.io/developers/weaviate/client-libraries/python\n",
            "                - For code migration, see: https://weaviate.io/developers/weaviate/client-libraries/python/v3_v4_migration\n",
            "\n",
            "            If you have to use v3 code, install the v3 client and pin the v3 dependency in your requirements file: `weaviate-client>=3.26.7;<4.0.0`\n",
            "  client=weaviate.Client(\n"
          ]
        }
      ]
    },
    {
      "cell_type": "code",
      "source": [
        "client.is_ready()"
      ],
      "metadata": {
        "id": "iREwItfvAIDs"
      },
      "execution_count": null,
      "outputs": []
    },
    {
      "cell_type": "code",
      "source": [
        "# define input structure\n",
        "client.schema.delete_all()\n",
        "client.schema.get()\n",
        "schema = {\n",
        "    \"classes\": [\n",
        "        {\n",
        "            \"class\": \"Chatbot\",\n",
        "            \"description\": \"Documents for chatbot\",\n",
        "            \"vectorizer\": \"text2vec-openai\",\n",
        "            \"moduleConfig\": {\"text2vec-openai\": {\"model\": \"ada\", \"type\": \"text\"}},\n",
        "            \"properties\": [\n",
        "                {\n",
        "                    \"dataType\": [\"text\"],\n",
        "                    \"description\": \"The content of the paragraph\",\n",
        "                    \"moduleConfig\": {\n",
        "                        \"text2vec-openai\": {\n",
        "                            \"skip\": False,\n",
        "                            \"vectorizePropertyName\": False,\n",
        "                        }\n",
        "                    },\n",
        "                    \"name\": \"content\",\n",
        "                },\n",
        "            ],\n",
        "        },\n",
        "    ]\n",
        "}\n",
        "\n",
        "client.schema.create(schema)\n",
        "vectorstore = Weaviate(client, \"Chatbot\", \"content\", attributes=[\"source\"])\n",
        ""
      ],
      "metadata": {
        "id": "pbButH1bBXMy"
      },
      "execution_count": null,
      "outputs": []
    },
    {
      "cell_type": "code",
      "source": [
        "text_meta_pair = [(doc.page_content, doc.metadata) for doc in docs]\n",
        "texts, meta = list(zip(*text_meta_pair))\n",
        "vectorstore.add_texts(texts, meta)"
      ],
      "metadata": {
        "id": "nc39-GDGBnk-"
      },
      "execution_count": null,
      "outputs": []
    },
    {
      "cell_type": "code",
      "source": [
        "query = \"what is a yolo?\"\n",
        "\n",
        "# retrieve text related to the query\n",
        "docs = vectorstore.similarity_search(query, top_k=20)"
      ],
      "metadata": {
        "id": "Vxo4PrlEBppW"
      },
      "execution_count": null,
      "outputs": []
    },
    {
      "cell_type": "code",
      "source": [
        "from langchain.chains.question_answering import load_qa_chain\n",
        "from langchain.llms import OpenAI"
      ],
      "metadata": {
        "id": "UtG-4CkFBsCG"
      },
      "execution_count": null,
      "outputs": []
    },
    {
      "cell_type": "code",
      "source": [
        "# define chain\n",
        "chain = load_qa_chain(\n",
        "    OpenAI(openai_api_key = OPENAI_API_KEY,temperature=0),\n",
        "    chain_type=\"stuff\")"
      ],
      "metadata": {
        "id": "X-oygo3BBtYs"
      },
      "execution_count": null,
      "outputs": []
    },
    {
      "cell_type": "code",
      "source": [
        "# create answer\n",
        "chain.run(input_documents=docs, question=query)"
      ],
      "metadata": {
        "id": "8UCAiIiEBuvh"
      },
      "execution_count": null,
      "outputs": []
    }
  ]
}